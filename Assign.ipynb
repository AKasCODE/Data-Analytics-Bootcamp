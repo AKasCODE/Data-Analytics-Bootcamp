{
 "cells": [
  {
   "cell_type": "code",
   "execution_count": null,
   "id": "995de2a9-8419-4415-83e7-a70c71b11c95",
   "metadata": {},
   "outputs": [],
   "source": [
    "lst=[]\n",
    "for i in range(10):\n",
    "    a=int(input(\"Enter list number:\"))\n",
    "    lst.append(a)\n",
    "print(lst)\n",
    "a=lst.copy()\n",
    "n=len(a)\n",
    "a.sort()\n",
    "print(a[n-2])"
   ]
  },
  {
   "cell_type": "code",
   "execution_count": 7,
   "id": "93e75064-4f74-4508-80a0-e61345afb698",
   "metadata": {},
   "outputs": [
    {
     "data": {
      "text/plain": [
       "[1, 3, 5, 7, 9]"
      ]
     },
     "execution_count": 7,
     "metadata": {},
     "output_type": "execute_result"
    }
   ],
   "source": [
    "lst= [1, 2, 3, 4, 5, 6, 7, 8, 9, 10]\n",
    "[n for n in lst if n % 2 != 0]"
   ]
  },
  {
   "cell_type": "code",
   "execution_count": 10,
   "id": "47f11471-d84c-4012-bf8e-7e00b2942d50",
   "metadata": {},
   "outputs": [
    {
     "name": "stdin",
     "output_type": "stream",
     "text": [
      "Enter a name to remove: Arpit\n"
     ]
    },
    {
     "name": "stdout",
     "output_type": "stream",
     "text": [
      "REMOVED\n",
      "LIST: ['Sam', 'Nath', 'AK']\n"
     ]
    }
   ],
   "source": [
    "lst=[\"Arpit\",\"Sam\",\"Nath\",\"AK\"]\n",
    "a=input(\"Enter a name to remove:\")\n",
    "if a in lst:\n",
    "    lst.remove(a)\n",
    "    print(\"REMOVED\")\n",
    "else:\n",
    "    print(\"Not Found\")\n",
    "print(f\"LIST: {lst}\")"
   ]
  },
  {
   "cell_type": "code",
   "execution_count": 20,
   "id": "84d36b40-6527-4741-8c72-263f657cf6a2",
   "metadata": {},
   "outputs": [
    {
     "name": "stdin",
     "output_type": "stream",
     "text": [
      "Enter a number: 6\n"
     ]
    },
    {
     "name": "stdout",
     "output_type": "stream",
     "text": [
      "Found at index: 5\n",
      "Number deleted\n",
      "[1, 2, 3, 4, 5, 7, 8, 9, 10]\n"
     ]
    }
   ],
   "source": [
    "lst= [1, 2, 3, 4, 5, 6, 7, 8, 9, 10]\n",
    "a=int(input(\"Enter a number:\"))\n",
    "if a in lst:\n",
    "    print(\"Found at index:\",lst.index(a))\n",
    "    lst.remove(a)\n",
    "    print(\"Number deleted\")\n",
    "else:\n",
    "    print(\"Element Not Found\")\n",
    "print(lst)"
   ]
  },
  {
   "cell_type": "code",
   "execution_count": 14,
   "id": "7e7286bb-8576-46ae-8bc6-0ab65709462f",
   "metadata": {},
   "outputs": [
    {
     "name": "stdout",
     "output_type": "stream",
     "text": [
      "['AK', 'Arpit', 'Nath', 'Sam', 'Uncharted']\n"
     ]
    }
   ],
   "source": [
    "lst=[\"Arpit\",\"Sam\",\"Uncharted\",\"Nath\",\"AK\"]\n",
    "lst.sort()\n",
    "print(lst)"
   ]
  },
  {
   "cell_type": "code",
   "execution_count": 24,
   "id": "cea66f49-4d5b-4432-834a-9f712a3f0891",
   "metadata": {},
   "outputs": [
    {
     "data": {
      "text/plain": [
       "3"
      ]
     },
     "execution_count": 24,
     "metadata": {},
     "output_type": "execute_result"
    }
   ],
   "source": [
    "lst=[\"python\",\"java\",\"c\",\"python\",\"sql\",\"c++\",\"python\"]\n",
    "lst.count(\"python\")"
   ]
  },
  {
   "cell_type": "code",
   "execution_count": 26,
   "id": "abc88c04-1c01-4e57-b381-30f5612f085a",
   "metadata": {},
   "outputs": [
    {
     "name": "stdout",
     "output_type": "stream",
     "text": [
      "[1, 2, 3, 4]\n"
     ]
    }
   ],
   "source": [
    "l=[1, 2, 3,4]\n",
    "c=l.copy()\n",
    "c.pop()\n",
    "c.pop()\n",
    "print(l)"
   ]
  },
  {
   "cell_type": "code",
   "execution_count": 28,
   "id": "89c49e51-f4cb-4523-89be-777d64a2d36c",
   "metadata": {},
   "outputs": [
    {
     "name": "stdout",
     "output_type": "stream",
     "text": [
      "[1, 2, 3, 4, 5, 6, 7, 8]\n"
     ]
    }
   ],
   "source": [
    "lst=[1, 2, 3, 4, 6, 7, 8]\n",
    "lst.insert(4,5)\n",
    "print(lst)"
   ]
  },
  {
   "cell_type": "code",
   "execution_count": 32,
   "id": "46d46846-ee9f-4df6-874e-7d78fed6f1bc",
   "metadata": {},
   "outputs": [
    {
     "name": "stdout",
     "output_type": "stream",
     "text": [
      "Element removed: 5\n",
      "Element removed: 4\n",
      "Element removed: 3\n",
      "Element removed: 2\n",
      "Element removed: 1\n",
      "Empty list\n"
     ]
    }
   ],
   "source": [
    "lst=[1, 2, 3, 4, 5]\n",
    "while lst!=[]:\n",
    "    print(\"Element removed:\",lst.pop())\n",
    "print(\"Empty list\")"
   ]
  },
  {
   "cell_type": "code",
   "execution_count": 38,
   "id": "007bfd76-9edb-4192-9769-d2ddf3033692",
   "metadata": {},
   "outputs": [
    {
     "name": "stdout",
     "output_type": "stream",
     "text": [
      "7\n",
      "1\n",
      "8\n"
     ]
    }
   ],
   "source": [
    "lst=[2, 5, 7, 6, 5, 1, 4, 2, 8, 6, 5, 4]\n",
    "for i in lst:\n",
    "    if lst.count(i)==1:\n",
    "        print(i)"
   ]
  },
  {
   "cell_type": "code",
   "execution_count": null,
   "id": "eece1c5f-d614-4e30-a8f2-7114be93cad6",
   "metadata": {},
   "outputs": [],
   "source": []
  }
 ],
 "metadata": {
  "kernelspec": {
   "display_name": "anaconda-2024.02-py310",
   "language": "python",
   "name": "conda-env-anaconda-2024.02-py310-py"
  },
  "language_info": {
   "codemirror_mode": {
    "name": "ipython",
    "version": 3
   },
   "file_extension": ".py",
   "mimetype": "text/x-python",
   "name": "python",
   "nbconvert_exporter": "python",
   "pygments_lexer": "ipython3",
   "version": "3.10.14"
  }
 },
 "nbformat": 4,
 "nbformat_minor": 5
}
