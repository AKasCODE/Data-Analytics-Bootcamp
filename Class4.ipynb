{
 "cells": [
  {
   "cell_type": "code",
   "execution_count": 5,
   "id": "2c04c1ec-1add-41e6-852e-c2c9651db4fa",
   "metadata": {},
   "outputs": [
    {
     "name": "stdout",
     "output_type": "stream",
     "text": [
      "1275\n"
     ]
    }
   ],
   "source": [
    "def nat():\n",
    "    sum=0\n",
    "    for i in range(1,51):\n",
    "        sum=sum+i\n",
    "    print(sum)\n",
    "nat()"
   ]
  },
  {
   "cell_type": "code",
   "execution_count": 6,
   "id": "95c8556e-b426-4d15-84c3-b38b2acab2d7",
   "metadata": {},
   "outputs": [
    {
     "name": "stdout",
     "output_type": "stream",
     "text": [
      "2 X 1 = 2\n",
      "2 X 2 = 4\n",
      "2 X 3 = 6\n",
      "2 X 4 = 8\n",
      "2 X 5 = 10\n",
      "2 X 6 = 12\n",
      "2 X 7 = 14\n",
      "2 X 8 = 16\n",
      "2 X 9 = 18\n",
      "2 X 10 = 20\n"
     ]
    }
   ],
   "source": [
    "def table(a):\n",
    "    for i in range(1,11):\n",
    "        print(f\"{a} X {i} = {a*i}\")\n",
    "table(2)"
   ]
  },
  {
   "cell_type": "code",
   "execution_count": 7,
   "id": "f8e76759-0c0d-421a-81a8-a64fdf4fc83c",
   "metadata": {},
   "outputs": [
    {
     "name": "stdout",
     "output_type": "stream",
     "text": [
      "625\n"
     ]
    }
   ],
   "source": [
    "def od(a,b):\n",
    "    sum=0\n",
    "    for i in range(a,b):\n",
    "        if i%2!=0:\n",
    "            sum+=i\n",
    "    print(sum)\n",
    "od(1,51)"
   ]
  },
  {
   "cell_type": "code",
   "execution_count": null,
   "id": "b453624a-1b58-4cc5-87aa-93f2297a22a3",
   "metadata": {},
   "outputs": [],
   "source": [
    "function with same name, diff logic. The function written last will exicute.\n",
    "Python is a interprated language."
   ]
  },
  {
   "cell_type": "code",
   "execution_count": 4,
   "id": "955dee86-fae8-4e6d-82b7-8f6d784f1543",
   "metadata": {},
   "outputs": [
    {
     "name": "stdin",
     "output_type": "stream",
     "text": [
      "Enter numerator: 10\n",
      "Enter denominator: 0\n"
     ]
    },
    {
     "name": "stdout",
     "output_type": "stream",
     "text": [
      "Divide by zero error\n"
     ]
    }
   ],
   "source": [
    "try:\n",
    "    num1=int(input(\"Enter numerator:\"))\n",
    "    num2=int(input(\"Enter denominator:\"))\n",
    "    result= num1/num2\n",
    "except ZeroDivisionError:\n",
    "    print(\"Divide by zero error\")\n",
    "except ValueError:\n",
    "    print(\"Enter valid int only\")\n",
    "else:\n",
    "    print(result)"
   ]
  },
  {
   "cell_type": "code",
   "execution_count": 12,
   "id": "c873307b-fe58-446a-9cd8-dbc2fe401017",
   "metadata": {},
   "outputs": [
    {
     "name": "stdin",
     "output_type": "stream",
     "text": [
      "Enter a number: 5\n"
     ]
    },
    {
     "name": "stdout",
     "output_type": "stream",
     "text": [
      "120\n"
     ]
    }
   ],
   "source": [
    "def fac(a):\n",
    "    if a==1:\n",
    "        return 1\n",
    "    return a*fac(a-1)\n",
    "a=int(input(\"Enter a number:\"))\n",
    "print(fac(a))"
   ]
  },
  {
   "cell_type": "code",
   "execution_count": 1,
   "id": "303cb7bd-79d9-4561-9e62-508bbd7bbf69",
   "metadata": {},
   "outputs": [
    {
     "name": "stdout",
     "output_type": "stream",
     "text": [
      "ruof\n"
     ]
    }
   ],
   "source": [
    "def rev(str):\n",
    "    str2=\"\"\n",
    "    for char in str:\n",
    "        str2=char+str2\n",
    "    print(str2)\n",
    "rev(\"four\")"
   ]
  },
  {
   "cell_type": "code",
   "execution_count": 26,
   "id": "45ebeafd-edc0-422d-b985-230f9eb7dcd8",
   "metadata": {},
   "outputs": [
    {
     "name": "stdin",
     "output_type": "stream",
     "text": [
      "Enter list element: 5\n",
      "Enter list element: 9\n",
      "Enter list element: 1\n"
     ]
    },
    {
     "name": "stdout",
     "output_type": "stream",
     "text": [
      "9\n"
     ]
    }
   ],
   "source": [
    "def lar(a):\n",
    "    a.sort()\n",
    "    b=len(a)-1\n",
    "    print(a[b])\n",
    "l=[]\n",
    "a=int(input(\"Enter list element:\"))\n",
    "l.append(a)\n",
    "b=int(input(\"Enter list element:\"))\n",
    "l.append(b)\n",
    "c=int(input(\"Enter list element:\"))\n",
    "l.append(c)\n",
    "lar(l)"
   ]
  },
  {
   "cell_type": "code",
   "execution_count": 6,
   "id": "139c78a7-f252-47aa-996d-0ee24f9304d5",
   "metadata": {},
   "outputs": [
    {
     "name": "stdin",
     "output_type": "stream",
     "text": [
      "Enter a string: aeioux\n"
     ]
    },
    {
     "name": "stdout",
     "output_type": "stream",
     "text": [
      "5\n"
     ]
    }
   ],
   "source": [
    "def vo(str):\n",
    "    co=0\n",
    "    for char in a:\n",
    "        if char=='a' or char=='e'or char=='i'or char=='o'or char=='u':\n",
    "            co+=1\n",
    "    print(co)\n",
    "a=input(\"Enter a string:\")\n",
    "vo(a)"
   ]
  },
  {
   "cell_type": "code",
   "execution_count": 9,
   "id": "e101d43b-e36a-464d-bdb1-967ffed13247",
   "metadata": {},
   "outputs": [
    {
     "name": "stdin",
     "output_type": "stream",
     "text": [
      "Enter n: 7\n"
     ]
    },
    {
     "name": "stdout",
     "output_type": "stream",
     "text": [
      "1\n",
      "1\n",
      "2\n",
      "3\n",
      "5\n",
      "8\n",
      "13\n"
     ]
    }
   ],
   "source": [
    "def pal(a):\n",
    "    if a==1:\n",
    "        return 1\n",
    "    if a==0:\n",
    "        return 0\n",
    "    return pal(a-1)+pal(a-2)\n",
    "a=int(input(\"Enter n:\"))\n",
    "for i in range(1,a+1):\n",
    "    print(pal(i))"
   ]
  },
  {
   "cell_type": "code",
   "execution_count": 4,
   "id": "2ecb6da6-e979-4cc3-8566-2ad9c74ad803",
   "metadata": {},
   "outputs": [
    {
     "name": "stdin",
     "output_type": "stream",
     "text": [
      "Enter a number: 8\n",
      "Enter a number: 6\n"
     ]
    },
    {
     "data": {
      "text/plain": [
       "7.0"
      ]
     },
     "execution_count": 4,
     "metadata": {},
     "output_type": "execute_result"
    }
   ],
   "source": [
    "def avg(a,b):\n",
    "    return (a+b)/2\n",
    "\n",
    "a=int(input(\"Enter a number:\"))\n",
    "b=int(input(\"Enter a number:\"))\n",
    "avg(a,b)"
   ]
  },
  {
   "cell_type": "code",
   "execution_count": 16,
   "id": "180277fe-950e-4216-ad17-35adafc50cc9",
   "metadata": {},
   "outputs": [
    {
     "name": "stdin",
     "output_type": "stream",
     "text": [
      "Enter a number: 5\n"
     ]
    },
    {
     "data": {
      "text/plain": [
       "25"
      ]
     },
     "execution_count": 16,
     "metadata": {},
     "output_type": "execute_result"
    }
   ],
   "source": [
    "sq= lambda a:a*a\n",
    "a=int(input(\"Enter a number:\"))\n",
    "sq(a)"
   ]
  },
  {
   "cell_type": "code",
   "execution_count": null,
   "id": "98162524-80b9-49a4-a423-69f36d749537",
   "metadata": {},
   "outputs": [],
   "source": []
  }
 ],
 "metadata": {
  "kernelspec": {
   "display_name": "anaconda-2024.02-py310",
   "language": "python",
   "name": "conda-env-anaconda-2024.02-py310-py"
  },
  "language_info": {
   "codemirror_mode": {
    "name": "ipython",
    "version": 3
   },
   "file_extension": ".py",
   "mimetype": "text/x-python",
   "name": "python",
   "nbconvert_exporter": "python",
   "pygments_lexer": "ipython3",
   "version": "3.10.14"
  }
 },
 "nbformat": 4,
 "nbformat_minor": 5
}
