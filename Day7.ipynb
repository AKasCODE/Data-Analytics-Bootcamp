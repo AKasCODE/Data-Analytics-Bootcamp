{
 "cells": [
  {
   "cell_type": "code",
   "execution_count": 2,
   "id": "95f2112a-740a-4f8c-a41e-005ec2fa47da",
   "metadata": {},
   "outputs": [],
   "source": [
    "import sqlite3\n",
    "conn=sqlite3.connect('student.db')\n",
    "cursor=conn.cursor()"
   ]
  },
  {
   "cell_type": "code",
   "execution_count": 3,
   "id": "a87a7cb7-8767-40cf-9f1c-224e093eff25",
   "metadata": {},
   "outputs": [
    {
     "name": "stdout",
     "output_type": "stream",
     "text": [
      "Table created successfully.\n"
     ]
    }
   ],
   "source": [
    "cursor.execute('''\n",
    "CREATE TABLE IF NOT EXISTS students (\n",
    "    id INTEGER PRIMARY KEY AUTOINCREMENT,\n",
    "    name TEXT NOT NULL,\n",
    "    age INTEGER,\n",
    "    grade TEXT)\n",
    "''')\n",
    "conn.commit()\n",
    "print(\"Table created successfully.\")"
   ]
  },
  {
   "cell_type": "code",
   "execution_count": 5,
   "id": "32756c00-6114-4dbc-bb74-13269dd03621",
   "metadata": {},
   "outputs": [
    {
     "name": "stdout",
     "output_type": "stream",
     "text": [
      "Student inserted successfully.\n",
      "Student inserted successfully.\n"
     ]
    }
   ],
   "source": [
    "def insert(name, age, grade):\n",
    "    cursor.execute(\"Insert into students (name, age, grade) values(?, ?, ?)\", (name, age, grade))\n",
    "    conn.commit()\n",
    "    print(\"Student inserted successfully.\")\n",
    "\n",
    "\n",
    "insert('Riya', 20, 'A')\n",
    "insert('Divyank', 22, 'B')"
   ]
  },
  {
   "cell_type": "code",
   "execution_count": 10,
   "id": "c48c1bf1-efbc-4111-a87b-a13c0f8371b9",
   "metadata": {},
   "outputs": [
    {
     "name": "stdout",
     "output_type": "stream",
     "text": [
      "(1, 'Riya', 20, 'A')\n",
      "(2, 'Divyank', 22, 'B')\n"
     ]
    }
   ],
   "source": [
    "def fetch():\n",
    "    cursor.execute(\"SELECT * FROM students\")\n",
    "    rows = cursor.fetchall()\n",
    "    for row in rows:\n",
    "        print(row)\n",
    "fetch()"
   ]
  },
  {
   "cell_type": "code",
   "execution_count": 14,
   "id": "76809806-1d16-4bda-b760-e6f436db4012",
   "metadata": {},
   "outputs": [
    {
     "name": "stdout",
     "output_type": "stream",
     "text": [
      "Student updated successfully.\n"
     ]
    }
   ],
   "source": [
    "def update(id, name, age, grade):\n",
    "    cursor.execute(\"update students set name=?, age=?, grade=? WHERE id=?\", (name, age, grade, id))\n",
    "    conn.commit()\n",
    "    print(\"Student updated successfully.\")\n",
    "update(1, 'Riya Sharma', 21, 'A+')"
   ]
  },
  {
   "cell_type": "code",
   "execution_count": 25,
   "id": "671dc5e2-9df1-407b-a83e-6bd8482f1e5b",
   "metadata": {},
   "outputs": [
    {
     "name": "stdout",
     "output_type": "stream",
     "text": [
      "Student deleted successfully.\n"
     ]
    }
   ],
   "source": [
    "def delete(id):\n",
    "    cursor.execute(\"delete from students where id=?\", (id,))\n",
    "    conn.commit()\n",
    "    print(\"Student deleted successfully.\")\n",
    "\n",
    "delete(2)"
   ]
  },
  {
   "cell_type": "code",
   "execution_count": null,
   "id": "18ec8103-7962-4be5-8ed1-bd4a8f787c70",
   "metadata": {},
   "outputs": [],
   "source": [
    "# cursor.execute('''\n",
    "# SELECT students.name, marks.subject, marks.marks\n",
    "# FROM students\n",
    "# JOIN marks ON students.student_id = marks.student_id\n",
    "# ''')\n",
    "\n",
    "# rows = cursor.fetchall()\n",
    "# for row in rows:\n",
    "#     print(row)\n"
   ]
  },
  {
   "cell_type": "code",
   "execution_count": null,
   "id": "c5f176fd-31e4-4b95-9109-2897dcc91f14",
   "metadata": {},
   "outputs": [],
   "source": [
    "conn.close()\n",
    "print(\"Database connection closed.\")"
   ]
  },
  {
   "cell_type": "code",
   "execution_count": null,
   "id": "f6c05503-d9d4-4e07-aa31-e9816ad83765",
   "metadata": {},
   "outputs": [],
   "source": []
  },
  {
   "cell_type": "code",
   "execution_count": 2,
   "id": "8b099e31-045b-42f7-a598-baf289c47675",
   "metadata": {},
   "outputs": [],
   "source": [
    "#NUMPY  (numerical python)\n",
    "import numpy as np"
   ]
  },
  {
   "cell_type": "code",
   "execution_count": 41,
   "id": "02258969-7e58-4442-a31a-24d51eaf3147",
   "metadata": {},
   "outputs": [
    {
     "name": "stdout",
     "output_type": "stream",
     "text": [
      "[1 2 3]\n",
      "[[1 2]\n",
      " [3 4]]\n"
     ]
    }
   ],
   "source": [
    "a=np.array([1,2,3])    #1-D array\n",
    "b=np.array([[1,2],[3,4]])   #2-D array\n",
    "print(a)\n",
    "print(b)"
   ]
  },
  {
   "cell_type": "code",
   "execution_count": 44,
   "id": "f643e580-a037-43f7-ba38-92085c842349",
   "metadata": {},
   "outputs": [
    {
     "name": "stdout",
     "output_type": "stream",
     "text": [
      "(2, 3)\n",
      "6\n",
      "2\n",
      "int64\n"
     ]
    }
   ],
   "source": [
    "a=np.array([[1,2,3],[4,5,6]])\n",
    "print(a.shape)   #tell (rows, columns)\n",
    "print(a.size)    #number of element in the array.\n",
    "print(a.ndim)    #tell dimension of the array.\n",
    "print(a.dtype)   #data type of element in the array. "
   ]
  },
  {
   "cell_type": "code",
   "execution_count": 45,
   "id": "df97c1f0-0144-47b9-939c-59be59052b6c",
   "metadata": {},
   "outputs": [
    {
     "data": {
      "text/plain": [
       "array([[1, 2, 3],\n",
       "       [4, 5, 6]])"
      ]
     },
     "execution_count": 45,
     "metadata": {},
     "output_type": "execute_result"
    }
   ],
   "source": [
    "a=np.array([1,2,3,4,5,6])\n",
    "a.reshape([2,3])"
   ]
  },
  {
   "cell_type": "code",
   "execution_count": 46,
   "id": "276e1e56-b5d0-49bc-b775-701598273405",
   "metadata": {},
   "outputs": [
    {
     "name": "stdout",
     "output_type": "stream",
     "text": [
      "[2 3 4]\n"
     ]
    }
   ],
   "source": [
    "print(a[1:4])"
   ]
  },
  {
   "cell_type": "code",
   "execution_count": 3,
   "id": "53f25195-a7b3-470c-b7fd-913d5c5073a8",
   "metadata": {},
   "outputs": [
    {
     "name": "stdout",
     "output_type": "stream",
     "text": [
      "[[0. 0. 0.]\n",
      " [0. 0. 0.]]\n",
      "[[1. 1. 1.]\n",
      " [1. 1. 1.]]\n",
      "[[1. 0. 0.]\n",
      " [0. 1. 0.]\n",
      " [0. 0. 1.]]\n",
      "[[7 7]\n",
      " [7 7]]\n",
      "[1 3 5 7 9]\n",
      "[1. 2. 3. 4. 5.]\n"
     ]
    }
   ],
   "source": [
    "print(np.zeros((2,3)))\n",
    "print(np.ones((2,3)))\n",
    "print(np.eye(3,3)) #Identity matrix\n",
    "print(np.full((2,2),7)) #Filled with 7\n",
    "print(np.arange(1,10,2)) #[1 3 5 7 9]\n",
    "print(np.linspace(1,5,5)) #[1. 2.33 3.66 5.]"
   ]
  },
  {
   "cell_type": "code",
   "execution_count": 50,
   "id": "a7a6c942-7a1d-4f04-a9d5-54748769ecc8",
   "metadata": {},
   "outputs": [
    {
     "name": "stdout",
     "output_type": "stream",
     "text": [
      "[5 7 9]\n",
      "[ 4 10 18]\n",
      "[1 4 9]\n",
      "[1.         1.41421356 1.73205081]\n",
      "2.0\n"
     ]
    }
   ],
   "source": [
    "a=np.array([1,2,3])\n",
    "b=np.array([4,5,6])\n",
    "\n",
    "\n",
    "print(a+b)\n",
    "print(a*b)\n",
    "print(a ** 2)\n",
    "print(np.sqrt(a))\n",
    "print(np.mean(a))\n",
    "\n",
    "\n"
   ]
  },
  {
   "cell_type": "code",
   "execution_count": 52,
   "id": "d68a7b54-ea11-4795-9983-c2d3078b761b",
   "metadata": {},
   "outputs": [
    {
     "name": "stdout",
     "output_type": "stream",
     "text": [
      "21\n",
      "1\n",
      "6\n",
      "[5 7 9]\n",
      "[ 6 15]\n"
     ]
    }
   ],
   "source": [
    "arr=np.array([[1,2,3],[4,5,6]])\n",
    "\n",
    "print(np.sum(arr))\n",
    "print(np.min(arr))\n",
    "print(np.max(arr))\n",
    "print(np.sum(arr, axis=0))\n",
    "print(np.sum(arr, axis=1))\n"
   ]
  },
  {
   "cell_type": "code",
   "execution_count": null,
   "id": "6d73e1ab-ece0-4e20-b12c-7204477b6102",
   "metadata": {},
   "outputs": [],
   "source": []
  },
  {
   "cell_type": "code",
   "execution_count": 6,
   "id": "72033186-56a4-47cd-8bf4-1a4f8eb04eac",
   "metadata": {},
   "outputs": [
    {
     "name": "stdout",
     "output_type": "stream",
     "text": [
      "1\n",
      "2\n",
      "3\n",
      "4\n"
     ]
    }
   ],
   "source": [
    "arr=np.array([[1,2],[3,4]])\n",
    "a=arr.flat\n",
    "for i in a:\n",
    "    print(i)"
   ]
  },
  {
   "cell_type": "code",
   "execution_count": 55,
   "id": "8bd35066-ed32-45a7-8d52-b4b5b68efd34",
   "metadata": {},
   "outputs": [
    {
     "name": "stdout",
     "output_type": "stream",
     "text": [
      "[[1 4]\n",
      " [2 5]\n",
      " [3 6]]\n"
     ]
    }
   ],
   "source": [
    "arr=np.array([[1,2,3],[4,5,6]])\n",
    "print(arr.T)"
   ]
  },
  {
   "cell_type": "code",
   "execution_count": null,
   "id": "ceb39679-51a8-423d-8a87-ca81b24a47f3",
   "metadata": {},
   "outputs": [],
   "source": [
    "a=np.array([[1,2],[4,5]])\n",
    "b=np.array([[1,2],[4,5]])\n",
    "print"
   ]
  },
  {
   "cell_type": "code",
   "execution_count": null,
   "id": "6892df27-d790-4d9f-8997-061d65f997b1",
   "metadata": {},
   "outputs": [],
   "source": []
  },
  {
   "cell_type": "code",
   "execution_count": null,
   "id": "8f3c8b3c-e07a-4f6b-992b-fcbbe3d3d530",
   "metadata": {},
   "outputs": [],
   "source": [
    "#PANDAS  (panel data)\n",
    "import pandas as pd"
   ]
  },
  {
   "cell_type": "code",
   "execution_count": null,
   "id": "c0b73275-e89a-4187-b383-c6290c6223c4",
   "metadata": {},
   "outputs": [],
   "source": []
  },
  {
   "cell_type": "code",
   "execution_count": 58,
   "id": "6a3e4532-832b-41e4-a499-50d8f9213157",
   "metadata": {},
   "outputs": [],
   "source": [
    "a=np.zeros(10)\n",
    "a[4]=1\n",
    "print(a)"
   ]
  },
  {
   "cell_type": "code",
   "execution_count": 62,
   "id": "6874aad3-3f8a-4379-8a87-b55811cd326a",
   "metadata": {},
   "outputs": [
    {
     "name": "stdout",
     "output_type": "stream",
     "text": [
      "[1. 1. 1. 1. 1. 1. 1. 1. 1. 1.]\n"
     ]
    }
   ],
   "source": [
    "a=np.ones(10)\n",
    "print(a)"
   ]
  },
  {
   "cell_type": "code",
   "execution_count": 63,
   "id": "25a35421-28e6-468f-8389-f306f980c89f",
   "metadata": {},
   "outputs": [
    {
     "name": "stdout",
     "output_type": "stream",
     "text": [
      "[[1. 0. 0.]\n",
      " [0. 1. 0.]\n",
      " [0. 0. 1.]]\n"
     ]
    }
   ],
   "source": [
    "print(np.eye(3,3))"
   ]
  },
  {
   "cell_type": "code",
   "execution_count": null,
   "id": "df570d52-1332-4d44-90bb-4f0ca0ca8fb5",
   "metadata": {},
   "outputs": [],
   "source": []
  }
 ],
 "metadata": {
  "kernelspec": {
   "display_name": "anaconda-2024.02-py310",
   "language": "python",
   "name": "conda-env-anaconda-2024.02-py310-py"
  },
  "language_info": {
   "codemirror_mode": {
    "name": "ipython",
    "version": 3
   },
   "file_extension": ".py",
   "mimetype": "text/x-python",
   "name": "python",
   "nbconvert_exporter": "python",
   "pygments_lexer": "ipython3",
   "version": "3.10.14"
  }
 },
 "nbformat": 4,
 "nbformat_minor": 5
}
