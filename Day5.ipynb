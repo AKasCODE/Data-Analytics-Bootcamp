{
 "cells": [
  {
   "cell_type": "code",
   "execution_count": null,
   "id": "f77e7baf-8d2c-4c71-b6d5-45ea74a40a03",
   "metadata": {},
   "outputs": [],
   "source": [
    "List are the most commonly used data structure.\n",
    "    ->Mutable\n",
    "    ->Index-based access\n",
    "    ->Hetrogeneous Supports multiple data type\n",
    "    ->Duplicates allowed"
   ]
  },
  {
   "cell_type": "code",
   "execution_count": 5,
   "id": "7533b091-045b-425a-8cca-430573cb150d",
   "metadata": {},
   "outputs": [
    {
     "name": "stdout",
     "output_type": "stream",
     "text": [
      "[2, 5, 8, 3, 6]\n"
     ]
    }
   ],
   "source": [
    "#Method\n",
    "#append() is used to add a single element at the end.\n",
    "lst=[2,5,8,3]\n",
    "lst.append(6)\n",
    "print(lst)"
   ]
  },
  {
   "cell_type": "code",
   "execution_count": 7,
   "id": "115e2b40-a37a-45e3-8cb9-ad46aaea8216",
   "metadata": {},
   "outputs": [
    {
     "name": "stdout",
     "output_type": "stream",
     "text": [
      "['AK', 2, 5, 'Arpit', 8, 3]\n"
     ]
    }
   ],
   "source": [
    "#insert() is used to add a single element at an index.\n",
    "lst=[2,5,\"Arpit\",8,3]\n",
    "lst.insert(0,\"AK\") #(index,element)\n",
    "print(lst)"
   ]
  },
  {
   "cell_type": "code",
   "execution_count": 8,
   "id": "43ca6981-d047-4177-92b1-7b6b29e116ec",
   "metadata": {},
   "outputs": [
    {
     "name": "stdout",
     "output_type": "stream",
     "text": [
      "[2, 5, 'Arpit', 8, 3, 'VK', 18]\n"
     ]
    }
   ],
   "source": [
    "#extend() is used to add multiple element at the end.\n",
    "lst=[2,5,\"Arpit\",8,3]\n",
    "lst.extend([\"VK\",18])\n",
    "print(lst)"
   ]
  },
  {
   "cell_type": "code",
   "execution_count": 13,
   "id": "966814c4-6bc2-430a-b7e5-94537a0a16a7",
   "metadata": {},
   "outputs": [
    {
     "name": "stdout",
     "output_type": "stream",
     "text": [
      "[2, 5, 'Arpit', 8]\n"
     ]
    }
   ],
   "source": [
    "#pop() is used to remove last element from the list.\n",
    "lst=[2,5,\"Arpit\",8,3]\n",
    "lst.pop()\n",
    "print(lst)"
   ]
  },
  {
   "cell_type": "code",
   "execution_count": 14,
   "id": "f01fed93-61bd-4d50-a4b5-b0d20a810ff0",
   "metadata": {},
   "outputs": [
    {
     "name": "stdout",
     "output_type": "stream",
     "text": [
      "[2, 'Arpit', 8, 3]\n"
     ]
    }
   ],
   "source": [
    "#remove() is used to remove the first match of an element.\n",
    "lst=[2,5,\"Arpit\",8,3]\n",
    "lst.remove(5)\n",
    "print(lst)"
   ]
  },
  {
   "cell_type": "code",
   "execution_count": 17,
   "id": "9290bd6e-d763-4c7e-9aaf-b318fa69dff9",
   "metadata": {},
   "outputs": [
    {
     "data": {
      "text/plain": [
       "2"
      ]
     },
     "execution_count": 17,
     "metadata": {},
     "output_type": "execute_result"
    }
   ],
   "source": [
    "#index() is used to get index of a value.\n",
    "lst=[2,5,\"Arpit\",8,3]\n",
    "lst.index(\"Arpit\")"
   ]
  },
  {
   "cell_type": "code",
   "execution_count": 21,
   "id": "fc03fce5-3567-4666-a483-8f13d1a0c436",
   "metadata": {},
   "outputs": [
    {
     "data": {
      "text/plain": [
       "3"
      ]
     },
     "execution_count": 21,
     "metadata": {},
     "output_type": "execute_result"
    }
   ],
   "source": [
    "#count() is used to how many times the element has occurred.\n",
    "lst=[5,2,5,\"Arpit\",8,3,5]\n",
    "lst.count(5)"
   ]
  },
  {
   "cell_type": "code",
   "execution_count": 25,
   "id": "9e8825b9-8c16-4a6a-85ee-a478ded3ee7f",
   "metadata": {},
   "outputs": [
    {
     "name": "stdout",
     "output_type": "stream",
     "text": [
      "[2, 3, 5, 8, 9]\n"
     ]
    }
   ],
   "source": [
    "#sort() is used to sort in ascending order.\n",
    "lst=[2,5,9,8,3]\n",
    "lst.sort()\n",
    "print(lst)"
   ]
  },
  {
   "cell_type": "code",
   "execution_count": 20,
   "id": "a1e87c48-ee55-42e5-aade-58a61ea122e7",
   "metadata": {},
   "outputs": [
    {
     "name": "stdout",
     "output_type": "stream",
     "text": [
      "[3, 8, 'Arpit', 5, 2]\n"
     ]
    }
   ],
   "source": [
    "#reverse() is used to reverse the element of a list.\n",
    "lst=[2,5,\"Arpit\",8,3]\n",
    "lst.reverse()\n",
    "print(lst)"
   ]
  },
  {
   "cell_type": "code",
   "execution_count": null,
   "id": "7b7dd415-bdb9-4b5d-b0b5-1f2b19f0b53c",
   "metadata": {},
   "outputs": [],
   "source": [
    "# . concatenate list with the method."
   ]
  },
  {
   "cell_type": "code",
   "execution_count": null,
   "id": "91f9f229-024a-4748-a269-40caa1037913",
   "metadata": {},
   "outputs": [],
   "source": []
  },
  {
   "cell_type": "code",
   "execution_count": 28,
   "id": "ae59d1c7-9736-470a-bbdf-43162d097218",
   "metadata": {},
   "outputs": [
    {
     "name": "stdin",
     "output_type": "stream",
     "text": [
      "Enter the list element: 5\n",
      "Enter the list element: 1\n",
      "Enter the list element: 9\n",
      "Enter the list element: 3\n",
      "Enter the list element: 7\n"
     ]
    },
    {
     "name": "stdout",
     "output_type": "stream",
     "text": [
      "['5', '1', '9', '3', '7']\n"
     ]
    }
   ],
   "source": [
    "lst=[]\n",
    "a=input(\"Enter the list element:\")\n",
    "lst.append(a)\n",
    "b=input(\"Enter the list element:\")\n",
    "lst.append(b)\n",
    "c=input(\"Enter the list element:\")\n",
    "lst.append(c)\n",
    "d=input(\"Enter the list element:\")\n",
    "lst.append(d)\n",
    "e=input(\"Enter the list element:\")\n",
    "lst.append(e)\n",
    "print(lst)"
   ]
  },
  {
   "cell_type": "code",
   "execution_count": 29,
   "id": "0c275c03-afb4-46bf-8eee-1d4ed5274788",
   "metadata": {},
   "outputs": [
    {
     "name": "stdout",
     "output_type": "stream",
     "text": [
      "[1, 2, 3, 4, 5, 6]\n"
     ]
    }
   ],
   "source": [
    "list1 = [1, 2, 3]\n",
    "list2 = [4, 5, 6]\n",
    "list1.extend(list2)\n",
    "print(list1)"
   ]
  },
  {
   "cell_type": "code",
   "execution_count": 30,
   "id": "3f859713-d178-4010-8653-5f012258279a",
   "metadata": {},
   "outputs": [
    {
     "name": "stdout",
     "output_type": "stream",
     "text": [
      "[10, 20, 25, 30, 40]\n"
     ]
    }
   ],
   "source": [
    "l =[10, 20, 30, 40]\n",
    "l.insert(2,25)\n",
    "print(l)"
   ]
  },
  {
   "cell_type": "code",
   "execution_count": 32,
   "id": "7fb7947a-81b2-4422-8070-ea879755c243",
   "metadata": {},
   "outputs": [
    {
     "name": "stdout",
     "output_type": "stream",
     "text": [
      "[10, 30, 20, 40]\n"
     ]
    }
   ],
   "source": [
    "l = [10, 20, 30, 20, 40]\n",
    "l.remove(20)\n",
    "print(l)"
   ]
  },
  {
   "cell_type": "code",
   "execution_count": 36,
   "id": "a85b4b44-af9e-432c-b555-bd3eed49d22b",
   "metadata": {},
   "outputs": [
    {
     "name": "stdout",
     "output_type": "stream",
     "text": [
      "5\n",
      "[1, 2, 3, 4]\n"
     ]
    }
   ],
   "source": [
    "l=[1, 2, 3, 4, 5]\n",
    "a=l.pop()\n",
    "print(a)\n",
    "print(l)"
   ]
  },
  {
   "cell_type": "code",
   "execution_count": 37,
   "id": "be212848-518e-48ed-8019-5634c4fc5d8b",
   "metadata": {},
   "outputs": [
    {
     "data": {
      "text/plain": [
       "2"
      ]
     },
     "execution_count": 37,
     "metadata": {},
     "output_type": "execute_result"
    }
   ],
   "source": [
    "l=[5, 10, 15, 20, 25]\n",
    "l.index(15)"
   ]
  },
  {
   "cell_type": "code",
   "execution_count": 38,
   "id": "a7d5fb4f-eb33-4448-941e-b1eb55a42b92",
   "metadata": {},
   "outputs": [
    {
     "data": {
      "text/plain": [
       "4"
      ]
     },
     "execution_count": 38,
     "metadata": {},
     "output_type": "execute_result"
    }
   ],
   "source": [
    "l=[1, 2, 2, 3, 2, 4, 2]\n",
    "l.count(2)"
   ]
  },
  {
   "cell_type": "code",
   "execution_count": 40,
   "id": "a8fa30d9-1139-40a6-869d-015fa1682332",
   "metadata": {},
   "outputs": [
    {
     "name": "stdout",
     "output_type": "stream",
     "text": [
      "[3, 5, 7, 10]\n",
      "[10, 7, 5, 3]\n"
     ]
    }
   ],
   "source": [
    "l=[10, 5, 7, 3]\n",
    "l.sort()\n",
    "print(l)\n",
    "l.sort(reverse=True)\n",
    "print(l)\n"
   ]
  },
  {
   "cell_type": "code",
   "execution_count": 41,
   "id": "8776f4e3-14ee-40fc-a4cc-b1684eb674df",
   "metadata": {},
   "outputs": [
    {
     "name": "stdout",
     "output_type": "stream",
     "text": [
      "[5, 4, 3, 2, 1]\n"
     ]
    }
   ],
   "source": [
    "l=[1, 2, 3, 4, 5]\n",
    "l.reverse()\n",
    "print(l)"
   ]
  },
  {
   "cell_type": "code",
   "execution_count": 43,
   "id": "1ec20a01-7d9f-409e-8366-cd1283da92d6",
   "metadata": {},
   "outputs": [
    {
     "name": "stdout",
     "output_type": "stream",
     "text": [
      "[1, 2, 3]\n",
      "[1, 2]\n"
     ]
    }
   ],
   "source": [
    "l=[1, 2, 3]\n",
    "c=l.copy()\n",
    "c.pop()\n",
    "print(c)\n",
    "print(l)"
   ]
  },
  {
   "cell_type": "code",
   "execution_count": 34,
   "id": "2437ef7f-993d-49e1-b294-1a8a2dc7dcf3",
   "metadata": {},
   "outputs": [
    {
     "name": "stdout",
     "output_type": "stream",
     "text": [
      "[4, 5, 6, 7, 8, 9]\n",
      "[0, 1, 2, 3]\n",
      "[0, 3, 6]\n"
     ]
    }
   ],
   "source": [
    "#SLICING\n",
    "num = [0,1,2,3,4,5,6,7,8,9]\n",
    "print(num[4:])\n",
    "print(num[0:4])\n",
    "print(num[:9:3])"
   ]
  },
  {
   "cell_type": "code",
   "execution_count": 49,
   "id": "412b7500-9bf0-4d70-87dc-3f564b5b2546",
   "metadata": {},
   "outputs": [
    {
     "data": {
      "text/plain": [
       "[1, 4, 9]"
      ]
     },
     "execution_count": 49,
     "metadata": {},
     "output_type": "execute_result"
    }
   ],
   "source": [
    "#LIST COMPRIHENSION\n",
    "#find square of list element\n",
    "[i**2 for i in [1,2,3]]"
   ]
  },
  {
   "cell_type": "code",
   "execution_count": 45,
   "id": "35f0c124-dacf-44f1-8f58-b7062e018237",
   "metadata": {},
   "outputs": [
    {
     "data": {
      "text/plain": [
       "[15, 17, 25, 27, 35, 37]"
      ]
     },
     "execution_count": 45,
     "metadata": {},
     "output_type": "execute_result"
    }
   ],
   "source": [
    "[10*i+j for i in [1,2,3] for j in [5,7]]"
   ]
  },
  {
   "cell_type": "code",
   "execution_count": null,
   "id": "da37cc85-efca-4396-a32d-9fe45a8e2611",
   "metadata": {},
   "outputs": [],
   "source": []
  },
  {
   "cell_type": "code",
   "execution_count": 55,
   "id": "a7fb98a6-9fd2-4c01-91d6-990103583ccd",
   "metadata": {},
   "outputs": [
    {
     "data": {
      "text/plain": [
       "3"
      ]
     },
     "execution_count": 55,
     "metadata": {},
     "output_type": "execute_result"
    }
   ],
   "source": [
    "#tuple\n",
    "a=tuple('a string with many \"a\" s')\n",
    "a.count('a')"
   ]
  },
  {
   "cell_type": "code",
   "execution_count": 56,
   "id": "ec3b6cb5-ee2b-4185-909e-2aa4868ca27b",
   "metadata": {},
   "outputs": [
    {
     "data": {
      "text/plain": [
       "0"
      ]
     },
     "execution_count": 56,
     "metadata": {},
     "output_type": "execute_result"
    }
   ],
   "source": [
    "a.index('a')"
   ]
  },
  {
   "cell_type": "code",
   "execution_count": null,
   "id": "60cc4baa-3b8b-4e36-85f0-27c731f0f47f",
   "metadata": {},
   "outputs": [],
   "source": []
  },
  {
   "cell_type": "code",
   "execution_count": 60,
   "id": "077a32f9-eef0-4933-9b84-eeb85efd8bb0",
   "metadata": {},
   "outputs": [
    {
     "data": {
      "text/plain": [
       "{1, 2, 3, 4}"
      ]
     },
     "execution_count": 60,
     "metadata": {},
     "output_type": "execute_result"
    }
   ],
   "source": [
    "#SET\n",
    "#sets are unordered,\n",
    "#         unindexed,\n",
    "#can't contain duplicate values.\n",
    "\n",
    "#To create empty set:\n",
    "#                    s=set()\n",
    "\n",
    "set1={1,2,3}\n",
    "set2={2,3,4}\n",
    "set1.union(set2)"
   ]
  },
  {
   "cell_type": "code",
   "execution_count": 61,
   "id": "62c6a533-9eb9-4dcc-8f8a-d9e60d5af2a2",
   "metadata": {},
   "outputs": [
    {
     "data": {
      "text/plain": [
       "{2, 3}"
      ]
     },
     "execution_count": 61,
     "metadata": {},
     "output_type": "execute_result"
    }
   ],
   "source": [
    "set1.intersection(set2)"
   ]
  },
  {
   "cell_type": "code",
   "execution_count": 62,
   "id": "9d5182db-effa-4d09-a622-b3792267798f",
   "metadata": {},
   "outputs": [
    {
     "data": {
      "text/plain": [
       "{1}"
      ]
     },
     "execution_count": 62,
     "metadata": {},
     "output_type": "execute_result"
    }
   ],
   "source": [
    "set1.difference(set2)"
   ]
  },
  {
   "cell_type": "code",
   "execution_count": 2,
   "id": "e9550059-fcc5-4fa7-9f8c-3e7fd096c3a0",
   "metadata": {},
   "outputs": [
    {
     "data": {
      "text/plain": [
       "{1, 4}"
      ]
     },
     "execution_count": 2,
     "metadata": {},
     "output_type": "execute_result"
    }
   ],
   "source": [
    "set1={1,2,3}\n",
    "set2={2,3,4}\n",
    "set2.symmetric_difference(set1)"
   ]
  },
  {
   "cell_type": "code",
   "execution_count": 11,
   "id": "42909dca-3560-48ae-bdda-628accdf63cf",
   "metadata": {},
   "outputs": [
    {
     "name": "stdout",
     "output_type": "stream",
     "text": [
      "True\n",
      "False\n",
      "True\n"
     ]
    }
   ],
   "source": [
    "set1={1,2,3}\n",
    "set2={2,3}\n",
    "a=set2.issubset(set1)\n",
    "b=set1.isdisjoint(set2)\n",
    "c=set1.issuperset(set2)\n",
    "print(a)\n",
    "print(b)\n",
    "print(c)"
   ]
  },
  {
   "cell_type": "code",
   "execution_count": 3,
   "id": "623121f4-104e-495a-b61d-89b647134e61",
   "metadata": {},
   "outputs": [
    {
     "name": "stdout",
     "output_type": "stream",
     "text": [
      "{2, 3, 4, 6}\n",
      "{3, 4, 6}\n",
      "set()\n",
      "{5}\n"
     ]
    }
   ],
   "source": [
    "se={6,4,3,2,1}\n",
    "se.pop()  #removes a random (arbitrary) element from the set.\n",
    "print(se)\n",
    "se.remove(2)  #removes the specific element from the set.\n",
    "print(se)\n",
    "se.clear()\n",
    "print(se)\n",
    "se.add(5)\n",
    "print(se)\n"
   ]
  },
  {
   "cell_type": "code",
   "execution_count": null,
   "id": "fd98b21e-7168-4d49-8063-aaec21db3d83",
   "metadata": {},
   "outputs": [],
   "source": []
  },
  {
   "cell_type": "code",
   "execution_count": null,
   "id": "4a52aad6-eac5-40ae-9696-29b0fdb6500d",
   "metadata": {},
   "outputs": [],
   "source": []
  }
 ],
 "metadata": {
  "kernelspec": {
   "display_name": "anaconda-2024.02-py310",
   "language": "python",
   "name": "conda-env-anaconda-2024.02-py310-py"
  },
  "language_info": {
   "codemirror_mode": {
    "name": "ipython",
    "version": 3
   },
   "file_extension": ".py",
   "mimetype": "text/x-python",
   "name": "python",
   "nbconvert_exporter": "python",
   "pygments_lexer": "ipython3",
   "version": "3.10.14"
  }
 },
 "nbformat": 4,
 "nbformat_minor": 5
}
