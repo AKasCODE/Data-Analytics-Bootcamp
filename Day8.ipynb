{
 "cells": [
  {
   "cell_type": "code",
   "execution_count": 82,
   "id": "3ef0ae6f-d71c-4d5b-ae36-103426c17596",
   "metadata": {},
   "outputs": [],
   "source": [
    "import pandas as pd\n",
    "import numpy as np"
   ]
  },
  {
   "cell_type": "code",
   "execution_count": 28,
   "id": "a04e1f10-8540-422c-956d-be921e2b068b",
   "metadata": {},
   "outputs": [],
   "source": [
    "data = {\n",
    "    'Name': ['Arpit', 'Abhishek','Sagar'],\n",
    "    'Age': [18, 19, 20],\n",
    "    'Marks':[92,88,81]\n",
    "}\n",
    "df = pd.DataFrame(data)  #The data is been stored in df as a data frame."
   ]
  },
  {
   "cell_type": "code",
   "execution_count": 3,
   "id": "d7fa1b53-2b6e-44db-87ba-3a23c3372e77",
   "metadata": {},
   "outputs": [
    {
     "data": {
      "text/html": [
       "<div>\n",
       "<style scoped>\n",
       "    .dataframe tbody tr th:only-of-type {\n",
       "        vertical-align: middle;\n",
       "    }\n",
       "\n",
       "    .dataframe tbody tr th {\n",
       "        vertical-align: top;\n",
       "    }\n",
       "\n",
       "    .dataframe thead th {\n",
       "        text-align: right;\n",
       "    }\n",
       "</style>\n",
       "<table border=\"1\" class=\"dataframe\">\n",
       "  <thead>\n",
       "    <tr style=\"text-align: right;\">\n",
       "      <th></th>\n",
       "      <th>Name</th>\n",
       "      <th>Age</th>\n",
       "      <th>Marks</th>\n",
       "    </tr>\n",
       "  </thead>\n",
       "  <tbody>\n",
       "    <tr>\n",
       "      <th>0</th>\n",
       "      <td>Arpit</td>\n",
       "      <td>18</td>\n",
       "      <td>92</td>\n",
       "    </tr>\n",
       "    <tr>\n",
       "      <th>1</th>\n",
       "      <td>Abhishek</td>\n",
       "      <td>19</td>\n",
       "      <td>88</td>\n",
       "    </tr>\n",
       "    <tr>\n",
       "      <th>2</th>\n",
       "      <td>Sagar</td>\n",
       "      <td>20</td>\n",
       "      <td>81</td>\n",
       "    </tr>\n",
       "  </tbody>\n",
       "</table>\n",
       "</div>"
      ],
      "text/plain": [
       "       Name  Age  Marks\n",
       "0     Arpit   18     92\n",
       "1  Abhishek   19     88\n",
       "2     Sagar   20     81"
      ]
     },
     "execution_count": 3,
     "metadata": {},
     "output_type": "execute_result"
    }
   ],
   "source": [
    "df #Show all data"
   ]
  },
  {
   "cell_type": "code",
   "execution_count": 4,
   "id": "3143c87c-51ca-42a4-b8b2-45650e2929a6",
   "metadata": {},
   "outputs": [],
   "source": [
    "df.to_csv('stu.csv') #Export data frame into a csv file."
   ]
  },
  {
   "cell_type": "code",
   "execution_count": 5,
   "id": "a19db51e-a214-4576-bff9-debb1d32d688",
   "metadata": {},
   "outputs": [],
   "source": [
    "df.to_csv('stu_copy.csv', index=False) #Don't give indexing column."
   ]
  },
  {
   "cell_type": "code",
   "execution_count": 6,
   "id": "965da17c-36c7-48d7-a4fa-2ce668541748",
   "metadata": {},
   "outputs": [
    {
     "data": {
      "text/html": [
       "<div>\n",
       "<style scoped>\n",
       "    .dataframe tbody tr th:only-of-type {\n",
       "        vertical-align: middle;\n",
       "    }\n",
       "\n",
       "    .dataframe tbody tr th {\n",
       "        vertical-align: top;\n",
       "    }\n",
       "\n",
       "    .dataframe thead th {\n",
       "        text-align: right;\n",
       "    }\n",
       "</style>\n",
       "<table border=\"1\" class=\"dataframe\">\n",
       "  <thead>\n",
       "    <tr style=\"text-align: right;\">\n",
       "      <th></th>\n",
       "      <th>Name</th>\n",
       "      <th>Age</th>\n",
       "      <th>Marks</th>\n",
       "    </tr>\n",
       "  </thead>\n",
       "  <tbody>\n",
       "    <tr>\n",
       "      <th>0</th>\n",
       "      <td>Arpit</td>\n",
       "      <td>18</td>\n",
       "      <td>92</td>\n",
       "    </tr>\n",
       "    <tr>\n",
       "      <th>1</th>\n",
       "      <td>Abhishek</td>\n",
       "      <td>19</td>\n",
       "      <td>88</td>\n",
       "    </tr>\n",
       "    <tr>\n",
       "      <th>2</th>\n",
       "      <td>Sagar</td>\n",
       "      <td>20</td>\n",
       "      <td>81</td>\n",
       "    </tr>\n",
       "  </tbody>\n",
       "</table>\n",
       "</div>"
      ],
      "text/plain": [
       "       Name  Age  Marks\n",
       "0     Arpit   18     92\n",
       "1  Abhishek   19     88\n",
       "2     Sagar   20     81"
      ]
     },
     "execution_count": 6,
     "metadata": {},
     "output_type": "execute_result"
    }
   ],
   "source": [
    "df.head()  #show first 5 rows."
   ]
  },
  {
   "cell_type": "code",
   "execution_count": 7,
   "id": "d35142eb-1b6a-42a0-b893-1048af552805",
   "metadata": {},
   "outputs": [
    {
     "data": {
      "text/html": [
       "<div>\n",
       "<style scoped>\n",
       "    .dataframe tbody tr th:only-of-type {\n",
       "        vertical-align: middle;\n",
       "    }\n",
       "\n",
       "    .dataframe tbody tr th {\n",
       "        vertical-align: top;\n",
       "    }\n",
       "\n",
       "    .dataframe thead th {\n",
       "        text-align: right;\n",
       "    }\n",
       "</style>\n",
       "<table border=\"1\" class=\"dataframe\">\n",
       "  <thead>\n",
       "    <tr style=\"text-align: right;\">\n",
       "      <th></th>\n",
       "      <th>Name</th>\n",
       "      <th>Age</th>\n",
       "      <th>Marks</th>\n",
       "    </tr>\n",
       "  </thead>\n",
       "  <tbody>\n",
       "    <tr>\n",
       "      <th>0</th>\n",
       "      <td>Arpit</td>\n",
       "      <td>18</td>\n",
       "      <td>92</td>\n",
       "    </tr>\n",
       "    <tr>\n",
       "      <th>1</th>\n",
       "      <td>Abhishek</td>\n",
       "      <td>19</td>\n",
       "      <td>88</td>\n",
       "    </tr>\n",
       "    <tr>\n",
       "      <th>2</th>\n",
       "      <td>Sagar</td>\n",
       "      <td>20</td>\n",
       "      <td>81</td>\n",
       "    </tr>\n",
       "  </tbody>\n",
       "</table>\n",
       "</div>"
      ],
      "text/plain": [
       "       Name  Age  Marks\n",
       "0     Arpit   18     92\n",
       "1  Abhishek   19     88\n",
       "2     Sagar   20     81"
      ]
     },
     "execution_count": 7,
     "metadata": {},
     "output_type": "execute_result"
    }
   ],
   "source": [
    "df.tail()  #Show last 5 rows. "
   ]
  },
  {
   "cell_type": "code",
   "execution_count": 15,
   "id": "0b7a3ae7-7abb-4537-a651-3b3b4f5c7e4d",
   "metadata": {},
   "outputs": [
    {
     "data": {
      "text/html": [
       "<div>\n",
       "<style scoped>\n",
       "    .dataframe tbody tr th:only-of-type {\n",
       "        vertical-align: middle;\n",
       "    }\n",
       "\n",
       "    .dataframe tbody tr th {\n",
       "        vertical-align: top;\n",
       "    }\n",
       "\n",
       "    .dataframe thead th {\n",
       "        text-align: right;\n",
       "    }\n",
       "</style>\n",
       "<table border=\"1\" class=\"dataframe\">\n",
       "  <thead>\n",
       "    <tr style=\"text-align: right;\">\n",
       "      <th></th>\n",
       "      <th>Age</th>\n",
       "      <th>Marks</th>\n",
       "    </tr>\n",
       "  </thead>\n",
       "  <tbody>\n",
       "    <tr>\n",
       "      <th>count</th>\n",
       "      <td>3.0</td>\n",
       "      <td>3.000000</td>\n",
       "    </tr>\n",
       "    <tr>\n",
       "      <th>mean</th>\n",
       "      <td>19.0</td>\n",
       "      <td>87.000000</td>\n",
       "    </tr>\n",
       "    <tr>\n",
       "      <th>std</th>\n",
       "      <td>1.0</td>\n",
       "      <td>5.567764</td>\n",
       "    </tr>\n",
       "    <tr>\n",
       "      <th>min</th>\n",
       "      <td>18.0</td>\n",
       "      <td>81.000000</td>\n",
       "    </tr>\n",
       "    <tr>\n",
       "      <th>25%</th>\n",
       "      <td>18.5</td>\n",
       "      <td>84.500000</td>\n",
       "    </tr>\n",
       "    <tr>\n",
       "      <th>50%</th>\n",
       "      <td>19.0</td>\n",
       "      <td>88.000000</td>\n",
       "    </tr>\n",
       "    <tr>\n",
       "      <th>75%</th>\n",
       "      <td>19.5</td>\n",
       "      <td>90.000000</td>\n",
       "    </tr>\n",
       "    <tr>\n",
       "      <th>max</th>\n",
       "      <td>20.0</td>\n",
       "      <td>92.000000</td>\n",
       "    </tr>\n",
       "  </tbody>\n",
       "</table>\n",
       "</div>"
      ],
      "text/plain": [
       "        Age      Marks\n",
       "count   3.0   3.000000\n",
       "mean   19.0  87.000000\n",
       "std     1.0   5.567764\n",
       "min    18.0  81.000000\n",
       "25%    18.5  84.500000\n",
       "50%    19.0  88.000000\n",
       "75%    19.5  90.000000\n",
       "max    20.0  92.000000"
      ]
     },
     "execution_count": 15,
     "metadata": {},
     "output_type": "execute_result"
    }
   ],
   "source": [
    "df.describe()   #Do statistics analysis."
   ]
  },
  {
   "cell_type": "code",
   "execution_count": 13,
   "id": "1a1507bf-757f-4d1f-bea6-940869254c17",
   "metadata": {},
   "outputs": [],
   "source": [
    "df = pd.read_csv('stu_copy.csv')"
   ]
  },
  {
   "cell_type": "code",
   "execution_count": 14,
   "id": "6bc37972-6731-47e5-ad2f-b9738cf3b020",
   "metadata": {},
   "outputs": [
    {
     "data": {
      "text/html": [
       "<div>\n",
       "<style scoped>\n",
       "    .dataframe tbody tr th:only-of-type {\n",
       "        vertical-align: middle;\n",
       "    }\n",
       "\n",
       "    .dataframe tbody tr th {\n",
       "        vertical-align: top;\n",
       "    }\n",
       "\n",
       "    .dataframe thead th {\n",
       "        text-align: right;\n",
       "    }\n",
       "</style>\n",
       "<table border=\"1\" class=\"dataframe\">\n",
       "  <thead>\n",
       "    <tr style=\"text-align: right;\">\n",
       "      <th></th>\n",
       "      <th>Name</th>\n",
       "      <th>Age</th>\n",
       "      <th>Marks</th>\n",
       "    </tr>\n",
       "  </thead>\n",
       "  <tbody>\n",
       "    <tr>\n",
       "      <th>0</th>\n",
       "      <td>Arpit</td>\n",
       "      <td>18</td>\n",
       "      <td>92</td>\n",
       "    </tr>\n",
       "    <tr>\n",
       "      <th>1</th>\n",
       "      <td>Abhishek</td>\n",
       "      <td>19</td>\n",
       "      <td>88</td>\n",
       "    </tr>\n",
       "    <tr>\n",
       "      <th>2</th>\n",
       "      <td>Sagar</td>\n",
       "      <td>20</td>\n",
       "      <td>81</td>\n",
       "    </tr>\n",
       "  </tbody>\n",
       "</table>\n",
       "</div>"
      ],
      "text/plain": [
       "       Name  Age  Marks\n",
       "0     Arpit   18     92\n",
       "1  Abhishek   19     88\n",
       "2     Sagar   20     81"
      ]
     },
     "execution_count": 14,
     "metadata": {},
     "output_type": "execute_result"
    }
   ],
   "source": [
    "df"
   ]
  },
  {
   "cell_type": "code",
   "execution_count": 17,
   "id": "c10dcdf5-a7a5-4976-98e9-3a49a8a2fabb",
   "metadata": {},
   "outputs": [
    {
     "data": {
      "text/plain": [
       "0       Arpit\n",
       "1    Abhishek\n",
       "2       Sagar\n",
       "Name: Name, dtype: object"
      ]
     },
     "execution_count": 17,
     "metadata": {},
     "output_type": "execute_result"
    }
   ],
   "source": [
    "df['Name'] #Return the column whose name is given."
   ]
  },
  {
   "cell_type": "code",
   "execution_count": 29,
   "id": "fe5d18ff-d868-4871-b72a-4c49d73678e8",
   "metadata": {},
   "outputs": [
    {
     "name": "stderr",
     "output_type": "stream",
     "text": [
      "/tmp/ipykernel_138/2377429214.py:1: SettingWithCopyWarning: \n",
      "A value is trying to be set on a copy of a slice from a DataFrame\n",
      "\n",
      "See the caveats in the documentation: https://pandas.pydata.org/pandas-docs/stable/user_guide/indexing.html#returning-a-view-versus-a-copy\n",
      "  df['Marks'][2] = 84 #Update the column at the index.\n"
     ]
    }
   ],
   "source": [
    "df['Marks'][2] = 84 #Update the column at the index.\n",
    "#Some warning comes but data changes."
   ]
  },
  {
   "cell_type": "code",
   "execution_count": 19,
   "id": "4a692fc6-77a5-43de-9050-97d89912211f",
   "metadata": {},
   "outputs": [
    {
     "data": {
      "text/html": [
       "<div>\n",
       "<style scoped>\n",
       "    .dataframe tbody tr th:only-of-type {\n",
       "        vertical-align: middle;\n",
       "    }\n",
       "\n",
       "    .dataframe tbody tr th {\n",
       "        vertical-align: top;\n",
       "    }\n",
       "\n",
       "    .dataframe thead th {\n",
       "        text-align: right;\n",
       "    }\n",
       "</style>\n",
       "<table border=\"1\" class=\"dataframe\">\n",
       "  <thead>\n",
       "    <tr style=\"text-align: right;\">\n",
       "      <th></th>\n",
       "      <th>Name</th>\n",
       "      <th>Age</th>\n",
       "      <th>Marks</th>\n",
       "    </tr>\n",
       "  </thead>\n",
       "  <tbody>\n",
       "    <tr>\n",
       "      <th>0</th>\n",
       "      <td>Arpit</td>\n",
       "      <td>18</td>\n",
       "      <td>92</td>\n",
       "    </tr>\n",
       "    <tr>\n",
       "      <th>1</th>\n",
       "      <td>Abhishek</td>\n",
       "      <td>19</td>\n",
       "      <td>88</td>\n",
       "    </tr>\n",
       "    <tr>\n",
       "      <th>2</th>\n",
       "      <td>Sagar</td>\n",
       "      <td>20</td>\n",
       "      <td>84</td>\n",
       "    </tr>\n",
       "  </tbody>\n",
       "</table>\n",
       "</div>"
      ],
      "text/plain": [
       "       Name  Age  Marks\n",
       "0     Arpit   18     92\n",
       "1  Abhishek   19     88\n",
       "2     Sagar   20     84"
      ]
     },
     "execution_count": 19,
     "metadata": {},
     "output_type": "execute_result"
    }
   ],
   "source": [
    "df"
   ]
  },
  {
   "cell_type": "code",
   "execution_count": 20,
   "id": "7b27e0c7-bfe4-453c-bb5b-a3fa9adca9fb",
   "metadata": {},
   "outputs": [],
   "source": [
    "df.to_csv('stu_copy.csv', index=False) #TO save the changes in the main csv file."
   ]
  },
  {
   "cell_type": "code",
   "execution_count": 26,
   "id": "9909a190-2794-4e88-820e-bb7dcb2a1427",
   "metadata": {},
   "outputs": [
    {
     "data": {
      "text/plain": [
       "Index(['Name', 'Age', 'Marks'], dtype='object')"
      ]
     },
     "execution_count": 26,
     "metadata": {},
     "output_type": "execute_result"
    }
   ],
   "source": [
    "df.columns"
   ]
  },
  {
   "cell_type": "code",
   "execution_count": 30,
   "id": "25332e3c-0344-4af7-a8d3-f64bf11eb0ad",
   "metadata": {},
   "outputs": [],
   "source": [
    "df.index=['First', 'Second', 'Third']  #Change the indexing of the Data Frame."
   ]
  },
  {
   "cell_type": "code",
   "execution_count": 22,
   "id": "dcf7ce29-58f0-4ad8-accb-6711b944c102",
   "metadata": {},
   "outputs": [
    {
     "data": {
      "text/html": [
       "<div>\n",
       "<style scoped>\n",
       "    .dataframe tbody tr th:only-of-type {\n",
       "        vertical-align: middle;\n",
       "    }\n",
       "\n",
       "    .dataframe tbody tr th {\n",
       "        vertical-align: top;\n",
       "    }\n",
       "\n",
       "    .dataframe thead th {\n",
       "        text-align: right;\n",
       "    }\n",
       "</style>\n",
       "<table border=\"1\" class=\"dataframe\">\n",
       "  <thead>\n",
       "    <tr style=\"text-align: right;\">\n",
       "      <th></th>\n",
       "      <th>Name</th>\n",
       "      <th>Age</th>\n",
       "      <th>Marks</th>\n",
       "    </tr>\n",
       "  </thead>\n",
       "  <tbody>\n",
       "    <tr>\n",
       "      <th>First</th>\n",
       "      <td>Arpit</td>\n",
       "      <td>18</td>\n",
       "      <td>92</td>\n",
       "    </tr>\n",
       "    <tr>\n",
       "      <th>Second</th>\n",
       "      <td>Abhishek</td>\n",
       "      <td>19</td>\n",
       "      <td>88</td>\n",
       "    </tr>\n",
       "    <tr>\n",
       "      <th>Third</th>\n",
       "      <td>Sagar</td>\n",
       "      <td>20</td>\n",
       "      <td>84</td>\n",
       "    </tr>\n",
       "  </tbody>\n",
       "</table>\n",
       "</div>"
      ],
      "text/plain": [
       "            Name  Age  Marks\n",
       "First      Arpit   18     92\n",
       "Second  Abhishek   19     88\n",
       "Third      Sagar   20     84"
      ]
     },
     "execution_count": 22,
     "metadata": {},
     "output_type": "execute_result"
    }
   ],
   "source": [
    "df"
   ]
  },
  {
   "cell_type": "code",
   "execution_count": 25,
   "id": "9853a4fc-391c-4a73-9b7a-1f277b3ada8b",
   "metadata": {},
   "outputs": [
    {
     "name": "stdout",
     "output_type": "stream",
     "text": [
      "0     0.589084\n",
      "1     0.235064\n",
      "2     0.171783\n",
      "3     0.854306\n",
      "4     0.575238\n",
      "5     0.273392\n",
      "6     0.326313\n",
      "7     0.910185\n",
      "8     0.204218\n",
      "9     0.785122\n",
      "10    0.202446\n",
      "11    0.541221\n",
      "12    0.973335\n",
      "13    0.431782\n",
      "14    0.367200\n",
      "dtype: float64 <class 'pandas.core.series.Series'>\n"
     ]
    }
   ],
   "source": [
    "ser=pd.Series(np.random.rand(15))\n",
    "print(ser,type(ser))"
   ]
  },
  {
   "cell_type": "code",
   "execution_count": 33,
   "id": "672bf595-cf3d-4dd5-a274-0db03356e9c1",
   "metadata": {},
   "outputs": [
    {
     "name": "stdout",
     "output_type": "stream",
     "text": [
      "           0         1         2         3         4\n",
      "0   0.535155  0.030342  0.828029  0.694037  0.250398\n",
      "1   0.480399  0.723182  0.089054  0.219398  0.968644\n",
      "2   0.254984  0.308793  0.587071  0.053215  0.210888\n",
      "3   0.034249  0.844895  0.038698  0.708874  0.678976\n",
      "4   0.393728  0.543584  0.449519  0.103677  0.409348\n",
      "..       ...       ...       ...       ...       ...\n",
      "95  0.081090  0.716037  0.838125  0.000471  0.831420\n",
      "96  0.221630  0.944603  0.906378  0.435964  0.279956\n",
      "97  0.378336  0.976243  0.204109  0.387943  0.744244\n",
      "98  0.590842  0.255188  0.097851  0.372937  0.511461\n",
      "99  0.367647  0.110267  0.689498  0.249949  0.207874\n",
      "\n",
      "[100 rows x 5 columns] <class 'pandas.core.frame.DataFrame'>\n"
     ]
    }
   ],
   "source": [
    "newdf=pd.DataFrame(np.random.rand(100,5), index=np.arange(100))\n",
    "print(newdf,type(newdf))"
   ]
  },
  {
   "cell_type": "code",
   "execution_count": 34,
   "id": "9250c35e-d572-4327-a24e-cb646a5b3002",
   "metadata": {},
   "outputs": [
    {
     "data": {
      "text/plain": [
       "0    float64\n",
       "1    float64\n",
       "2    float64\n",
       "3    float64\n",
       "4    float64\n",
       "dtype: object"
      ]
     },
     "execution_count": 34,
     "metadata": {},
     "output_type": "execute_result"
    }
   ],
   "source": [
    "newdf.dtypes"
   ]
  },
  {
   "cell_type": "code",
   "execution_count": 35,
   "id": "42c2d18d-0017-455e-b258-54bfdf8c2f13",
   "metadata": {},
   "outputs": [
    {
     "data": {
      "text/plain": [
       "array([[5.35155367e-01, 3.03417738e-02, 8.28029031e-01, 6.94036829e-01,\n",
       "        2.50397938e-01],\n",
       "       [4.80399345e-01, 7.23182380e-01, 8.90537932e-02, 2.19397699e-01,\n",
       "        9.68644320e-01],\n",
       "       [2.54984290e-01, 3.08793046e-01, 5.87070995e-01, 5.32154475e-02,\n",
       "        2.10887783e-01],\n",
       "       [3.42485590e-02, 8.44895376e-01, 3.86977242e-02, 7.08874228e-01,\n",
       "        6.78976130e-01],\n",
       "       [3.93727569e-01, 5.43584161e-01, 4.49519291e-01, 1.03677216e-01,\n",
       "        4.09348185e-01],\n",
       "       [7.23504217e-01, 3.61873950e-01, 5.57296222e-01, 9.01620668e-01,\n",
       "        6.15013448e-01],\n",
       "       [3.66906107e-01, 8.35419134e-01, 2.85210417e-01, 2.33131574e-01,\n",
       "        5.20513627e-01],\n",
       "       [3.09906023e-01, 7.08586821e-01, 4.62472204e-01, 3.37009846e-01,\n",
       "        7.73703538e-02],\n",
       "       [5.50179870e-01, 8.99926928e-01, 7.87299128e-01, 5.70905900e-01,\n",
       "        4.06741804e-01],\n",
       "       [6.46822939e-01, 5.17342317e-02, 3.81406790e-02, 5.99010432e-01,\n",
       "        4.92003455e-01],\n",
       "       [9.89576058e-01, 5.77730839e-01, 1.13904164e-01, 3.24441059e-01,\n",
       "        7.41203961e-01],\n",
       "       [7.85458058e-01, 6.90085349e-01, 9.44385479e-01, 7.96985061e-01,\n",
       "        5.93529357e-01],\n",
       "       [7.38710515e-01, 9.78408000e-01, 7.77828808e-01, 9.45380704e-01,\n",
       "        1.05138999e-01],\n",
       "       [3.06268794e-01, 2.97259948e-01, 3.21813857e-01, 5.59321301e-01,\n",
       "        8.30205032e-02],\n",
       "       [7.30767314e-01, 9.82436700e-01, 3.37118647e-01, 4.92704530e-01,\n",
       "        3.94675127e-01],\n",
       "       [8.96616654e-01, 7.35423726e-01, 1.61433532e-01, 8.24105816e-02,\n",
       "        9.16946401e-01],\n",
       "       [8.99327988e-01, 5.97552408e-02, 6.60721596e-01, 1.59356530e-01,\n",
       "        3.30565004e-01],\n",
       "       [4.95753013e-01, 7.19771978e-01, 6.62363534e-01, 9.61477987e-01,\n",
       "        2.52969734e-01],\n",
       "       [5.59921012e-01, 3.48896185e-01, 1.34922836e-03, 3.30267683e-01,\n",
       "        9.59975237e-02],\n",
       "       [9.00368587e-01, 1.64897421e-01, 2.62147702e-02, 7.66488866e-01,\n",
       "        1.89068388e-01],\n",
       "       [6.31365918e-01, 2.67299938e-01, 6.72058535e-01, 9.66138004e-01,\n",
       "        9.54290733e-01],\n",
       "       [8.21464418e-01, 9.77622550e-01, 9.24228065e-01, 9.95655962e-01,\n",
       "        5.02042450e-01],\n",
       "       [3.36608050e-01, 4.97275714e-01, 5.86389929e-02, 3.58819583e-01,\n",
       "        3.20000265e-01],\n",
       "       [4.13935396e-01, 5.15953517e-02, 9.58207707e-01, 9.87969602e-01,\n",
       "        9.12141690e-01],\n",
       "       [7.80238274e-01, 8.70811234e-01, 2.49126759e-01, 5.76776457e-01,\n",
       "        4.63103310e-01],\n",
       "       [3.42209054e-01, 7.81815500e-01, 8.64870899e-01, 6.79511100e-01,\n",
       "        6.49912359e-01],\n",
       "       [6.03168411e-01, 6.25663628e-01, 3.63200952e-01, 3.02497475e-01,\n",
       "        4.05370880e-01],\n",
       "       [5.13277385e-01, 1.75930519e-01, 2.62842277e-01, 6.33050681e-02,\n",
       "        7.90438231e-01],\n",
       "       [5.76730049e-01, 9.24450617e-01, 2.02706180e-01, 3.74469275e-01,\n",
       "        6.01197747e-01],\n",
       "       [7.15180604e-01, 6.85906170e-01, 8.84367714e-01, 1.52836869e-01,\n",
       "        3.28609594e-01],\n",
       "       [7.57609953e-01, 6.26847646e-02, 6.55050430e-01, 9.16592647e-02,\n",
       "        3.48472016e-01],\n",
       "       [4.99075402e-01, 2.90321379e-01, 1.99158460e-01, 7.56316252e-01,\n",
       "        2.52390157e-01],\n",
       "       [9.97450919e-01, 1.17536660e-01, 2.62221309e-01, 5.37234789e-01,\n",
       "        4.98615501e-02],\n",
       "       [9.11731378e-01, 3.27388236e-01, 1.46734192e-01, 5.24971491e-01,\n",
       "        6.26993359e-01],\n",
       "       [8.34137410e-01, 4.92559642e-03, 1.21707093e-01, 5.35978698e-01,\n",
       "        8.69276356e-01],\n",
       "       [7.64870375e-02, 8.98324109e-01, 3.47151592e-01, 2.39173820e-01,\n",
       "        5.77617004e-01],\n",
       "       [3.67034931e-01, 2.09447716e-01, 1.50423342e-01, 8.54020788e-01,\n",
       "        6.18311198e-01],\n",
       "       [6.08290955e-01, 6.17879999e-01, 9.67935968e-01, 1.46162050e-01,\n",
       "        5.76603266e-01],\n",
       "       [9.77911452e-03, 3.46626755e-01, 2.91858272e-01, 2.88673778e-01,\n",
       "        8.45455387e-01],\n",
       "       [9.75284483e-01, 8.54340189e-01, 5.85917359e-01, 4.90328187e-01,\n",
       "        6.55124290e-01],\n",
       "       [8.72221564e-01, 7.59990744e-01, 6.99789852e-01, 4.30305314e-01,\n",
       "        8.84544777e-01],\n",
       "       [3.36472816e-01, 1.79938057e-01, 6.58728612e-01, 5.99494779e-01,\n",
       "        4.33229021e-01],\n",
       "       [1.45564018e-01, 5.18867136e-01, 6.89888055e-01, 9.68090322e-01,\n",
       "        6.04050250e-01],\n",
       "       [9.62882600e-01, 6.32428277e-01, 9.40461262e-02, 6.60849747e-01,\n",
       "        6.01323299e-01],\n",
       "       [8.13904028e-01, 1.62369194e-01, 7.61046808e-01, 5.55479137e-01,\n",
       "        1.47201117e-01],\n",
       "       [7.91467295e-02, 2.80519891e-01, 8.99448826e-01, 5.93541692e-01,\n",
       "        6.38714025e-01],\n",
       "       [6.69591805e-01, 1.51939424e-01, 3.19141810e-01, 1.85705405e-01,\n",
       "        4.77250407e-01],\n",
       "       [4.41881784e-01, 7.80352439e-01, 1.31693581e-01, 1.41150889e-01,\n",
       "        4.68598821e-01],\n",
       "       [9.98016610e-01, 2.36361106e-01, 7.34841658e-01, 6.92915324e-03,\n",
       "        9.76598633e-01],\n",
       "       [9.15151467e-01, 1.83070009e-01, 5.18354618e-01, 3.29631329e-01,\n",
       "        3.65609926e-01],\n",
       "       [7.34834863e-01, 4.45251226e-01, 2.05049461e-01, 2.79119868e-01,\n",
       "        8.94149141e-01],\n",
       "       [4.32953525e-01, 3.81934528e-01, 7.47850561e-02, 6.80343499e-01,\n",
       "        9.00029633e-01],\n",
       "       [7.62976694e-02, 2.85541241e-01, 7.54144484e-01, 6.35711997e-01,\n",
       "        7.53962007e-01],\n",
       "       [7.70134168e-01, 3.49656755e-01, 7.96730053e-01, 9.03055877e-01,\n",
       "        9.99942647e-03],\n",
       "       [6.60768995e-01, 5.15617931e-01, 1.55532194e-01, 5.72149204e-01,\n",
       "        4.03831729e-01],\n",
       "       [6.78744733e-01, 5.31460868e-01, 3.37622329e-01, 9.73041381e-01,\n",
       "        3.93702807e-01],\n",
       "       [6.92034508e-01, 2.92106488e-01, 3.30149685e-01, 7.89089922e-01,\n",
       "        8.32086033e-02],\n",
       "       [6.56771840e-02, 5.44081241e-02, 9.31526345e-01, 5.33845082e-01,\n",
       "        6.42711966e-01],\n",
       "       [7.11739565e-01, 6.98040640e-01, 3.64201209e-01, 4.92998493e-01,\n",
       "        8.90816348e-01],\n",
       "       [1.06785845e-01, 9.24598318e-01, 8.32784593e-01, 8.59550197e-01,\n",
       "        2.44834741e-01],\n",
       "       [8.87446844e-01, 8.08610842e-01, 4.16715577e-01, 4.24740985e-01,\n",
       "        3.63042198e-02],\n",
       "       [3.06695878e-01, 7.16359016e-01, 5.93449764e-01, 9.08717911e-01,\n",
       "        4.94288321e-01],\n",
       "       [6.96858889e-01, 7.83010324e-01, 6.90202921e-01, 5.93524594e-01,\n",
       "        9.43772325e-02],\n",
       "       [4.70048308e-01, 1.89753418e-02, 4.00636882e-01, 4.38018677e-01,\n",
       "        2.00154513e-01],\n",
       "       [5.04450494e-01, 6.26856090e-01, 2.88581645e-01, 8.98151342e-01,\n",
       "        7.17784198e-01],\n",
       "       [8.56170564e-01, 2.09652736e-01, 4.61457378e-01, 6.08295408e-01,\n",
       "        6.90169179e-01],\n",
       "       [9.11132494e-01, 4.50709242e-01, 8.48212566e-01, 5.38111834e-01,\n",
       "        9.28516158e-01],\n",
       "       [7.42099673e-01, 3.75440273e-01, 9.06454145e-01, 1.16440617e-01,\n",
       "        4.14855471e-01],\n",
       "       [2.73954420e-01, 8.39009465e-01, 4.70484108e-01, 3.07517792e-01,\n",
       "        5.30558637e-01],\n",
       "       [5.49638325e-02, 4.14612710e-02, 4.34962637e-04, 3.69330478e-01,\n",
       "        1.72334667e-01],\n",
       "       [7.81166106e-01, 4.91676552e-01, 1.75896373e-01, 3.62371222e-01,\n",
       "        3.88017848e-01],\n",
       "       [3.33776981e-01, 5.73292779e-01, 2.24719843e-01, 3.37850127e-01,\n",
       "        1.47713019e-01],\n",
       "       [9.61043612e-01, 8.64624660e-01, 2.58430699e-01, 5.77132056e-01,\n",
       "        9.06765242e-01],\n",
       "       [8.97551331e-01, 8.80026426e-01, 1.87075321e-01, 6.90729847e-01,\n",
       "        5.64567249e-01],\n",
       "       [9.74451957e-01, 9.74525104e-01, 9.78277860e-01, 8.84861613e-01,\n",
       "        7.83563306e-01],\n",
       "       [4.26012873e-01, 5.78583767e-01, 9.00117440e-01, 5.39712691e-01,\n",
       "        7.56293732e-01],\n",
       "       [2.24500988e-01, 1.17173199e-02, 9.95205847e-01, 7.93981926e-01,\n",
       "        4.23954821e-01],\n",
       "       [7.45909552e-01, 9.77787514e-01, 4.04005505e-02, 4.01046828e-01,\n",
       "        3.96287432e-01],\n",
       "       [1.57719019e-01, 9.29638670e-01, 9.72636540e-01, 3.42045123e-01,\n",
       "        8.39824918e-01],\n",
       "       [4.81748521e-02, 3.46292369e-01, 1.85705180e-01, 5.57328293e-01,\n",
       "        3.30360120e-01],\n",
       "       [1.39324168e-01, 3.51149524e-01, 8.88567412e-01, 4.81858759e-01,\n",
       "        9.48686439e-01],\n",
       "       [2.51226268e-01, 6.70264502e-01, 7.64634211e-01, 9.91070127e-01,\n",
       "        8.55382029e-01],\n",
       "       [3.39721253e-01, 3.05838970e-01, 1.59189873e-01, 1.62540661e-01,\n",
       "        2.08517248e-01],\n",
       "       [6.06043219e-01, 5.07823496e-01, 3.19790073e-02, 7.01500076e-01,\n",
       "        5.16718657e-01],\n",
       "       [7.34580262e-01, 1.03000086e-01, 8.49996759e-01, 2.69986653e-01,\n",
       "        2.67614209e-01],\n",
       "       [2.41951770e-01, 5.75785173e-02, 4.57031184e-01, 9.71027681e-01,\n",
       "        9.08620736e-01],\n",
       "       [4.83238326e-01, 8.54330746e-02, 6.40143308e-01, 7.16078347e-01,\n",
       "        6.70029861e-01],\n",
       "       [4.03746195e-01, 1.69504738e-01, 5.75303720e-02, 6.48254534e-01,\n",
       "        3.41117549e-01],\n",
       "       [5.67050303e-01, 2.56950181e-01, 4.40264834e-01, 2.95906362e-01,\n",
       "        6.41237450e-01],\n",
       "       [7.17572395e-01, 1.03555426e-01, 4.85051036e-01, 8.02438880e-02,\n",
       "        7.05613975e-01],\n",
       "       [3.43071190e-02, 9.92267994e-01, 2.88191952e-01, 5.54338343e-01,\n",
       "        1.23984280e-01],\n",
       "       [6.41610437e-01, 2.89616376e-01, 2.48390064e-01, 5.25408867e-01,\n",
       "        9.97442691e-01],\n",
       "       [7.35373918e-02, 2.46514537e-01, 5.48537384e-01, 3.65409355e-01,\n",
       "        6.45104299e-01],\n",
       "       [6.30833826e-01, 6.97590618e-01, 1.90173388e-01, 4.80158433e-01,\n",
       "        8.80770993e-01],\n",
       "       [8.05212734e-01, 7.49789067e-01, 9.48180495e-01, 3.71480732e-01,\n",
       "        5.99980094e-01],\n",
       "       [8.10900124e-02, 7.16037032e-01, 8.38124753e-01, 4.70643349e-04,\n",
       "        8.31419675e-01],\n",
       "       [2.21629827e-01, 9.44602578e-01, 9.06378308e-01, 4.35963830e-01,\n",
       "        2.79956174e-01],\n",
       "       [3.78336131e-01, 9.76243157e-01, 2.04108825e-01, 3.87942539e-01,\n",
       "        7.44243908e-01],\n",
       "       [5.90841757e-01, 2.55187509e-01, 9.78509267e-02, 3.72937312e-01,\n",
       "        5.11460902e-01],\n",
       "       [3.67646914e-01, 1.10266903e-01, 6.89497517e-01, 2.49949230e-01,\n",
       "        2.07874473e-01]])"
      ]
     },
     "execution_count": 35,
     "metadata": {},
     "output_type": "execute_result"
    }
   ],
   "source": [
    "newdf.to_numpy()"
   ]
  },
  {
   "cell_type": "code",
   "execution_count": 37,
   "id": "073ff3dd-4f82-4a9a-ab65-8611b90f47c8",
   "metadata": {},
   "outputs": [
    {
     "data": {
      "text/html": [
       "<div>\n",
       "<style scoped>\n",
       "    .dataframe tbody tr th:only-of-type {\n",
       "        vertical-align: middle;\n",
       "    }\n",
       "\n",
       "    .dataframe tbody tr th {\n",
       "        vertical-align: top;\n",
       "    }\n",
       "\n",
       "    .dataframe thead th {\n",
       "        text-align: right;\n",
       "    }\n",
       "</style>\n",
       "<table border=\"1\" class=\"dataframe\">\n",
       "  <thead>\n",
       "    <tr style=\"text-align: right;\">\n",
       "      <th></th>\n",
       "      <th>First</th>\n",
       "      <th>Second</th>\n",
       "      <th>Third</th>\n",
       "    </tr>\n",
       "  </thead>\n",
       "  <tbody>\n",
       "    <tr>\n",
       "      <th>Name</th>\n",
       "      <td>Arpit</td>\n",
       "      <td>Abhishek</td>\n",
       "      <td>Sagar</td>\n",
       "    </tr>\n",
       "    <tr>\n",
       "      <th>Age</th>\n",
       "      <td>18</td>\n",
       "      <td>19</td>\n",
       "      <td>20</td>\n",
       "    </tr>\n",
       "    <tr>\n",
       "      <th>Marks</th>\n",
       "      <td>92</td>\n",
       "      <td>88</td>\n",
       "      <td>84</td>\n",
       "    </tr>\n",
       "  </tbody>\n",
       "</table>\n",
       "</div>"
      ],
      "text/plain": [
       "       First    Second  Third\n",
       "Name   Arpit  Abhishek  Sagar\n",
       "Age       18        19     20\n",
       "Marks     92        88     84"
      ]
     },
     "execution_count": 37,
     "metadata": {},
     "output_type": "execute_result"
    }
   ],
   "source": [
    "df.T"
   ]
  },
  {
   "cell_type": "markdown",
   "id": "b16c8af9-fee9-41a4-9291-fac2d0390df7",
   "metadata": {},
   "source": [
    "***Axis 0 is row &\n",
    "Axis 1 is column***"
   ]
  },
  {
   "cell_type": "code",
   "execution_count": 39,
   "id": "8ad8e80a-7e3b-4506-9e66-b7fbb6a43a4f",
   "metadata": {},
   "outputs": [
    {
     "data": {
      "text/html": [
       "<div>\n",
       "<style scoped>\n",
       "    .dataframe tbody tr th:only-of-type {\n",
       "        vertical-align: middle;\n",
       "    }\n",
       "\n",
       "    .dataframe tbody tr th {\n",
       "        vertical-align: top;\n",
       "    }\n",
       "\n",
       "    .dataframe thead th {\n",
       "        text-align: right;\n",
       "    }\n",
       "</style>\n",
       "<table border=\"1\" class=\"dataframe\">\n",
       "  <thead>\n",
       "    <tr style=\"text-align: right;\">\n",
       "      <th></th>\n",
       "      <th>Name</th>\n",
       "      <th>Age</th>\n",
       "      <th>Marks</th>\n",
       "    </tr>\n",
       "  </thead>\n",
       "  <tbody>\n",
       "    <tr>\n",
       "      <th>Third</th>\n",
       "      <td>Sagar</td>\n",
       "      <td>20</td>\n",
       "      <td>84</td>\n",
       "    </tr>\n",
       "    <tr>\n",
       "      <th>Second</th>\n",
       "      <td>Abhishek</td>\n",
       "      <td>19</td>\n",
       "      <td>88</td>\n",
       "    </tr>\n",
       "    <tr>\n",
       "      <th>First</th>\n",
       "      <td>Arpit</td>\n",
       "      <td>18</td>\n",
       "      <td>92</td>\n",
       "    </tr>\n",
       "  </tbody>\n",
       "</table>\n",
       "</div>"
      ],
      "text/plain": [
       "            Name  Age  Marks\n",
       "Third      Sagar   20     84\n",
       "Second  Abhishek   19     88\n",
       "First      Arpit   18     92"
      ]
     },
     "execution_count": 39,
     "metadata": {},
     "output_type": "execute_result"
    }
   ],
   "source": [
    "df.sort_index(axis=0,ascending=False)"
   ]
  },
  {
   "cell_type": "code",
   "execution_count": 40,
   "id": "202dff95-88f6-468a-8423-92a5fc74d105",
   "metadata": {},
   "outputs": [],
   "source": [
    "df2=df  #This will create a view. Any change in view will also change the original.\n",
    "df3=df.copy() #copy to data frame."
   ]
  },
  {
   "cell_type": "markdown",
   "id": "c28eed9f-6c04-4848-be92-60e48b7f8897",
   "metadata": {},
   "source": [
    "***Data should not be updated like[0][0] instead use loc.***"
   ]
  },
  {
   "cell_type": "code",
   "execution_count": 47,
   "id": "77c7fbe1-68f3-4a65-83d3-d7f9af4b47e7",
   "metadata": {},
   "outputs": [
    {
     "data": {
      "text/plain": [
       "Name     Arpit\n",
       "Age         18\n",
       "Marks       92\n",
       "Name: First, dtype: object"
      ]
     },
     "execution_count": 47,
     "metadata": {},
     "output_type": "execute_result"
    }
   ],
   "source": [
    "df.loc['First']  #label base (row)"
   ]
  },
  {
   "cell_type": "code",
   "execution_count": 48,
   "id": "414e4067-d0dd-4a7e-84fe-ca1f9f6a2c63",
   "metadata": {},
   "outputs": [
    {
     "data": {
      "text/plain": [
       "Name     Arpit\n",
       "Age         18\n",
       "Marks       92\n",
       "Name: First, dtype: object"
      ]
     },
     "execution_count": 48,
     "metadata": {},
     "output_type": "execute_result"
    }
   ],
   "source": [
    "df.iloc[0]  #index based"
   ]
  },
  {
   "cell_type": "code",
   "execution_count": 31,
   "id": "8ffa50bb-47cc-4da0-815e-899fdc6f950f",
   "metadata": {},
   "outputs": [
    {
     "data": {
      "text/html": [
       "<div>\n",
       "<style scoped>\n",
       "    .dataframe tbody tr th:only-of-type {\n",
       "        vertical-align: middle;\n",
       "    }\n",
       "\n",
       "    .dataframe tbody tr th {\n",
       "        vertical-align: top;\n",
       "    }\n",
       "\n",
       "    .dataframe thead th {\n",
       "        text-align: right;\n",
       "    }\n",
       "</style>\n",
       "<table border=\"1\" class=\"dataframe\">\n",
       "  <thead>\n",
       "    <tr style=\"text-align: right;\">\n",
       "      <th></th>\n",
       "      <th>Name</th>\n",
       "      <th>Age</th>\n",
       "      <th>Marks</th>\n",
       "    </tr>\n",
       "  </thead>\n",
       "  <tbody>\n",
       "    <tr>\n",
       "      <th>First</th>\n",
       "      <td>AK</td>\n",
       "      <td>18</td>\n",
       "      <td>92</td>\n",
       "    </tr>\n",
       "    <tr>\n",
       "      <th>Second</th>\n",
       "      <td>Abhishek</td>\n",
       "      <td>19</td>\n",
       "      <td>88</td>\n",
       "    </tr>\n",
       "    <tr>\n",
       "      <th>Third</th>\n",
       "      <td>Sagar</td>\n",
       "      <td>20</td>\n",
       "      <td>84</td>\n",
       "    </tr>\n",
       "  </tbody>\n",
       "</table>\n",
       "</div>"
      ],
      "text/plain": [
       "            Name  Age  Marks\n",
       "First         AK   18     92\n",
       "Second  Abhishek   19     88\n",
       "Third      Sagar   20     84"
      ]
     },
     "execution_count": 31,
     "metadata": {},
     "output_type": "execute_result"
    }
   ],
   "source": [
    "df.loc['First','Name']='AK'\n",
    "df"
   ]
  },
  {
   "cell_type": "code",
   "execution_count": 32,
   "id": "90d7feca-e1a7-4f7b-a2d5-7c77df37064e",
   "metadata": {},
   "outputs": [
    {
     "data": {
      "text/html": [
       "<div>\n",
       "<style scoped>\n",
       "    .dataframe tbody tr th:only-of-type {\n",
       "        vertical-align: middle;\n",
       "    }\n",
       "\n",
       "    .dataframe tbody tr th {\n",
       "        vertical-align: top;\n",
       "    }\n",
       "\n",
       "    .dataframe thead th {\n",
       "        text-align: right;\n",
       "    }\n",
       "</style>\n",
       "<table border=\"1\" class=\"dataframe\">\n",
       "  <thead>\n",
       "    <tr style=\"text-align: right;\">\n",
       "      <th></th>\n",
       "      <th>Name</th>\n",
       "      <th>Age</th>\n",
       "      <th>Marks</th>\n",
       "    </tr>\n",
       "  </thead>\n",
       "  <tbody>\n",
       "    <tr>\n",
       "      <th>First</th>\n",
       "      <td>AK</td>\n",
       "      <td>18</td>\n",
       "      <td>92</td>\n",
       "    </tr>\n",
       "    <tr>\n",
       "      <th>Second</th>\n",
       "      <td>Abhishek</td>\n",
       "      <td>19</td>\n",
       "      <td>88</td>\n",
       "    </tr>\n",
       "    <tr>\n",
       "      <th>Third</th>\n",
       "      <td>Ujjwal</td>\n",
       "      <td>20</td>\n",
       "      <td>84</td>\n",
       "    </tr>\n",
       "  </tbody>\n",
       "</table>\n",
       "</div>"
      ],
      "text/plain": [
       "            Name  Age  Marks\n",
       "First         AK   18     92\n",
       "Second  Abhishek   19     88\n",
       "Third     Ujjwal   20     84"
      ]
     },
     "execution_count": 32,
     "metadata": {},
     "output_type": "execute_result"
    }
   ],
   "source": [
    "df.iloc[2,0]='Ujjwal'\n",
    "df"
   ]
  },
  {
   "cell_type": "code",
   "execution_count": 34,
   "id": "8e288767-4c47-4e0f-aac6-db80c0bc1187",
   "metadata": {},
   "outputs": [
    {
     "data": {
      "text/html": [
       "<div>\n",
       "<style scoped>\n",
       "    .dataframe tbody tr th:only-of-type {\n",
       "        vertical-align: middle;\n",
       "    }\n",
       "\n",
       "    .dataframe tbody tr th {\n",
       "        vertical-align: top;\n",
       "    }\n",
       "\n",
       "    .dataframe thead th {\n",
       "        text-align: right;\n",
       "    }\n",
       "</style>\n",
       "<table border=\"1\" class=\"dataframe\">\n",
       "  <thead>\n",
       "    <tr style=\"text-align: right;\">\n",
       "      <th></th>\n",
       "      <th>Name</th>\n",
       "      <th>Age</th>\n",
       "      <th>Marks</th>\n",
       "      <th>Address</th>\n",
       "    </tr>\n",
       "  </thead>\n",
       "  <tbody>\n",
       "    <tr>\n",
       "      <th>First</th>\n",
       "      <td>AK</td>\n",
       "      <td>18</td>\n",
       "      <td>92</td>\n",
       "      <td>Rohini</td>\n",
       "    </tr>\n",
       "    <tr>\n",
       "      <th>Second</th>\n",
       "      <td>Abhishek</td>\n",
       "      <td>19</td>\n",
       "      <td>88</td>\n",
       "      <td>Dwarka</td>\n",
       "    </tr>\n",
       "    <tr>\n",
       "      <th>Third</th>\n",
       "      <td>Ujjwal</td>\n",
       "      <td>20</td>\n",
       "      <td>84</td>\n",
       "      <td>Ghaziabad</td>\n",
       "    </tr>\n",
       "  </tbody>\n",
       "</table>\n",
       "</div>"
      ],
      "text/plain": [
       "            Name  Age  Marks    Address\n",
       "First         AK   18     92     Rohini\n",
       "Second  Abhishek   19     88     Dwarka\n",
       "Third     Ujjwal   20     84  Ghaziabad"
      ]
     },
     "execution_count": 34,
     "metadata": {},
     "output_type": "execute_result"
    }
   ],
   "source": [
    "df['Address'] = ['Rohini', 'Dwarka', 'Ghaziabad']  #Add a column.\n",
    "df"
   ]
  },
  {
   "cell_type": "code",
   "execution_count": 36,
   "id": "c829682b-4375-4725-8668-b84efdc73f12",
   "metadata": {},
   "outputs": [
    {
     "data": {
      "text/html": [
       "<div>\n",
       "<style scoped>\n",
       "    .dataframe tbody tr th:only-of-type {\n",
       "        vertical-align: middle;\n",
       "    }\n",
       "\n",
       "    .dataframe tbody tr th {\n",
       "        vertical-align: top;\n",
       "    }\n",
       "\n",
       "    .dataframe thead th {\n",
       "        text-align: right;\n",
       "    }\n",
       "</style>\n",
       "<table border=\"1\" class=\"dataframe\">\n",
       "  <thead>\n",
       "    <tr style=\"text-align: right;\">\n",
       "      <th></th>\n",
       "      <th>Name</th>\n",
       "      <th>Age</th>\n",
       "      <th>Marks</th>\n",
       "    </tr>\n",
       "  </thead>\n",
       "  <tbody>\n",
       "    <tr>\n",
       "      <th>First</th>\n",
       "      <td>AK</td>\n",
       "      <td>18</td>\n",
       "      <td>92</td>\n",
       "    </tr>\n",
       "    <tr>\n",
       "      <th>Second</th>\n",
       "      <td>Abhishek</td>\n",
       "      <td>19</td>\n",
       "      <td>88</td>\n",
       "    </tr>\n",
       "    <tr>\n",
       "      <th>Third</th>\n",
       "      <td>Ujjwal</td>\n",
       "      <td>20</td>\n",
       "      <td>84</td>\n",
       "    </tr>\n",
       "  </tbody>\n",
       "</table>\n",
       "</div>"
      ],
      "text/plain": [
       "            Name  Age  Marks\n",
       "First         AK   18     92\n",
       "Second  Abhishek   19     88\n",
       "Third     Ujjwal   20     84"
      ]
     },
     "execution_count": 36,
     "metadata": {},
     "output_type": "execute_result"
    }
   ],
   "source": [
    "df.drop('Address', axis=1)   #Delete a column."
   ]
  },
  {
   "cell_type": "code",
   "execution_count": 37,
   "id": "828105aa-adf2-41ec-b79a-923c335d867e",
   "metadata": {},
   "outputs": [
    {
     "data": {
      "text/html": [
       "<div>\n",
       "<style scoped>\n",
       "    .dataframe tbody tr th:only-of-type {\n",
       "        vertical-align: middle;\n",
       "    }\n",
       "\n",
       "    .dataframe tbody tr th {\n",
       "        vertical-align: top;\n",
       "    }\n",
       "\n",
       "    .dataframe thead th {\n",
       "        text-align: right;\n",
       "    }\n",
       "</style>\n",
       "<table border=\"1\" class=\"dataframe\">\n",
       "  <thead>\n",
       "    <tr style=\"text-align: right;\">\n",
       "      <th></th>\n",
       "      <th>Marks</th>\n",
       "      <th>Name</th>\n",
       "    </tr>\n",
       "  </thead>\n",
       "  <tbody>\n",
       "    <tr>\n",
       "      <th>First</th>\n",
       "      <td>92</td>\n",
       "      <td>AK</td>\n",
       "    </tr>\n",
       "    <tr>\n",
       "      <th>Second</th>\n",
       "      <td>88</td>\n",
       "      <td>Abhishek</td>\n",
       "    </tr>\n",
       "    <tr>\n",
       "      <th>Third</th>\n",
       "      <td>84</td>\n",
       "      <td>Ujjwal</td>\n",
       "    </tr>\n",
       "  </tbody>\n",
       "</table>\n",
       "</div>"
      ],
      "text/plain": [
       "        Marks      Name\n",
       "First      92        AK\n",
       "Second     88  Abhishek\n",
       "Third      84    Ujjwal"
      ]
     },
     "execution_count": 37,
     "metadata": {},
     "output_type": "execute_result"
    }
   ],
   "source": [
    "df.loc[:,['Marks','Name']]  # : will return all rows/columns whichever is given."
   ]
  },
  {
   "cell_type": "code",
   "execution_count": 45,
   "id": "527a24be-003d-40c2-b9d8-cbda165cc54c",
   "metadata": {},
   "outputs": [
    {
     "data": {
      "text/html": [
       "<div>\n",
       "<style scoped>\n",
       "    .dataframe tbody tr th:only-of-type {\n",
       "        vertical-align: middle;\n",
       "    }\n",
       "\n",
       "    .dataframe tbody tr th {\n",
       "        vertical-align: top;\n",
       "    }\n",
       "\n",
       "    .dataframe thead th {\n",
       "        text-align: right;\n",
       "    }\n",
       "</style>\n",
       "<table border=\"1\" class=\"dataframe\">\n",
       "  <thead>\n",
       "    <tr style=\"text-align: right;\">\n",
       "      <th></th>\n",
       "      <th>Name</th>\n",
       "      <th>Age</th>\n",
       "      <th>Marks</th>\n",
       "      <th>Address</th>\n",
       "    </tr>\n",
       "  </thead>\n",
       "  <tbody>\n",
       "    <tr>\n",
       "      <th>First</th>\n",
       "      <td>AK</td>\n",
       "      <td>18</td>\n",
       "      <td>92</td>\n",
       "      <td>Rohini</td>\n",
       "    </tr>\n",
       "  </tbody>\n",
       "</table>\n",
       "</div>"
      ],
      "text/plain": [
       "      Name  Age  Marks Address\n",
       "First   AK   18     92  Rohini"
      ]
     },
     "execution_count": 45,
     "metadata": {},
     "output_type": "execute_result"
    }
   ],
   "source": [
    "df.loc[(df['Age'] <20) & (df['Marks']>90)]"
   ]
  },
  {
   "cell_type": "code",
   "execution_count": 50,
   "id": "a48823b4-35cf-4f37-9b2e-cf3535f3dead",
   "metadata": {},
   "outputs": [
    {
     "data": {
      "text/html": [
       "<div>\n",
       "<style scoped>\n",
       "    .dataframe tbody tr th:only-of-type {\n",
       "        vertical-align: middle;\n",
       "    }\n",
       "\n",
       "    .dataframe tbody tr th {\n",
       "        vertical-align: top;\n",
       "    }\n",
       "\n",
       "    .dataframe thead th {\n",
       "        text-align: right;\n",
       "    }\n",
       "</style>\n",
       "<table border=\"1\" class=\"dataframe\">\n",
       "  <thead>\n",
       "    <tr style=\"text-align: right;\">\n",
       "      <th></th>\n",
       "      <th>Name</th>\n",
       "      <th>Age</th>\n",
       "      <th>Marks</th>\n",
       "      <th>Address</th>\n",
       "    </tr>\n",
       "  </thead>\n",
       "  <tbody>\n",
       "    <tr>\n",
       "      <th>0</th>\n",
       "      <td>AK</td>\n",
       "      <td>18</td>\n",
       "      <td>92</td>\n",
       "      <td>Rohini</td>\n",
       "    </tr>\n",
       "    <tr>\n",
       "      <th>1</th>\n",
       "      <td>Abhishek</td>\n",
       "      <td>19</td>\n",
       "      <td>88</td>\n",
       "      <td>Dwarka</td>\n",
       "    </tr>\n",
       "    <tr>\n",
       "      <th>2</th>\n",
       "      <td>Ujjwal</td>\n",
       "      <td>20</td>\n",
       "      <td>84</td>\n",
       "      <td>Ghaziabad</td>\n",
       "    </tr>\n",
       "  </tbody>\n",
       "</table>\n",
       "</div>"
      ],
      "text/plain": [
       "       Name  Age  Marks    Address\n",
       "0        AK   18     92     Rohini\n",
       "1  Abhishek   19     88     Dwarka\n",
       "2    Ujjwal   20     84  Ghaziabad"
      ]
     },
     "execution_count": 50,
     "metadata": {},
     "output_type": "execute_result"
    }
   ],
   "source": [
    "df.reset_index(drop=True, inplace=True)  #Reset the index value & drop=true remove index column.\n",
    "df"
   ]
  },
  {
   "cell_type": "markdown",
   "id": "856d26f9-bfe5-4fdd-b184-32a1ca58e4da",
   "metadata": {},
   "source": [
    "# Cleaning"
   ]
  },
  {
   "cell_type": "code",
   "execution_count": 96,
   "id": "1c205c95-3cc3-42e9-834b-cdb1c6301da9",
   "metadata": {},
   "outputs": [
    {
     "data": {
      "text/html": [
       "<div>\n",
       "<style scoped>\n",
       "    .dataframe tbody tr th:only-of-type {\n",
       "        vertical-align: middle;\n",
       "    }\n",
       "\n",
       "    .dataframe tbody tr th {\n",
       "        vertical-align: top;\n",
       "    }\n",
       "\n",
       "    .dataframe thead th {\n",
       "        text-align: right;\n",
       "    }\n",
       "</style>\n",
       "<table border=\"1\" class=\"dataframe\">\n",
       "  <thead>\n",
       "    <tr style=\"text-align: right;\">\n",
       "      <th></th>\n",
       "      <th>A</th>\n",
       "      <th>B</th>\n",
       "      <th>C</th>\n",
       "      <th>D</th>\n",
       "    </tr>\n",
       "  </thead>\n",
       "  <tbody>\n",
       "    <tr>\n",
       "      <th>0</th>\n",
       "      <td>2</td>\n",
       "      <td>50.0</td>\n",
       "      <td>56.0</td>\n",
       "      <td>78</td>\n",
       "    </tr>\n",
       "    <tr>\n",
       "      <th>1</th>\n",
       "      <td>34</td>\n",
       "      <td>NaN</td>\n",
       "      <td>4.0</td>\n",
       "      <td>34</td>\n",
       "    </tr>\n",
       "    <tr>\n",
       "      <th>2</th>\n",
       "      <td>56</td>\n",
       "      <td>NaN</td>\n",
       "      <td>NaN</td>\n",
       "      <td>56</td>\n",
       "    </tr>\n",
       "    <tr>\n",
       "      <th>3</th>\n",
       "      <td>2</td>\n",
       "      <td>50.0</td>\n",
       "      <td>56.0</td>\n",
       "      <td>78</td>\n",
       "    </tr>\n",
       "  </tbody>\n",
       "</table>\n",
       "</div>"
      ],
      "text/plain": [
       "    A     B     C   D\n",
       "0   2  50.0  56.0  78\n",
       "1  34   NaN   4.0  34\n",
       "2  56   NaN   NaN  56\n",
       "3   2  50.0  56.0  78"
      ]
     },
     "execution_count": 96,
     "metadata": {},
     "output_type": "execute_result"
    }
   ],
   "source": [
    "cln={\n",
    "    'A':[2,34,56,2], \n",
    "    'B':[50,np.nan,np.nan,50],\n",
    "    'C':[56,4,np.nan,56],\n",
    "    'D':[78,34,56,78]\n",
    "}\n",
    "dj= pd.DataFrame(cln)\n",
    "dj"
   ]
  },
  {
   "cell_type": "code",
   "execution_count": 97,
   "id": "d50eff8f-e03a-44eb-84dc-3cf79716672f",
   "metadata": {},
   "outputs": [
    {
     "data": {
      "text/html": [
       "<div>\n",
       "<style scoped>\n",
       "    .dataframe tbody tr th:only-of-type {\n",
       "        vertical-align: middle;\n",
       "    }\n",
       "\n",
       "    .dataframe tbody tr th {\n",
       "        vertical-align: top;\n",
       "    }\n",
       "\n",
       "    .dataframe thead th {\n",
       "        text-align: right;\n",
       "    }\n",
       "</style>\n",
       "<table border=\"1\" class=\"dataframe\">\n",
       "  <thead>\n",
       "    <tr style=\"text-align: right;\">\n",
       "      <th></th>\n",
       "      <th>A</th>\n",
       "      <th>B</th>\n",
       "      <th>C</th>\n",
       "      <th>D</th>\n",
       "    </tr>\n",
       "  </thead>\n",
       "  <tbody>\n",
       "    <tr>\n",
       "      <th>0</th>\n",
       "      <td>2</td>\n",
       "      <td>50.0</td>\n",
       "      <td>56.0</td>\n",
       "      <td>78</td>\n",
       "    </tr>\n",
       "    <tr>\n",
       "      <th>3</th>\n",
       "      <td>2</td>\n",
       "      <td>50.0</td>\n",
       "      <td>56.0</td>\n",
       "      <td>78</td>\n",
       "    </tr>\n",
       "  </tbody>\n",
       "</table>\n",
       "</div>"
      ],
      "text/plain": [
       "   A     B     C   D\n",
       "0  2  50.0  56.0  78\n",
       "3  2  50.0  56.0  78"
      ]
     },
     "execution_count": 97,
     "metadata": {},
     "output_type": "execute_result"
    }
   ],
   "source": [
    "dj.dropna()  #Drop the row or column if any value is NA.  Currently checking row (axis=1 for column)."
   ]
  },
  {
   "cell_type": "code",
   "execution_count": 98,
   "id": "cdc4e729-1586-4577-92fe-a96f34faaa90",
   "metadata": {},
   "outputs": [
    {
     "data": {
      "text/html": [
       "<div>\n",
       "<style scoped>\n",
       "    .dataframe tbody tr th:only-of-type {\n",
       "        vertical-align: middle;\n",
       "    }\n",
       "\n",
       "    .dataframe tbody tr th {\n",
       "        vertical-align: top;\n",
       "    }\n",
       "\n",
       "    .dataframe thead th {\n",
       "        text-align: right;\n",
       "    }\n",
       "</style>\n",
       "<table border=\"1\" class=\"dataframe\">\n",
       "  <thead>\n",
       "    <tr style=\"text-align: right;\">\n",
       "      <th></th>\n",
       "      <th>A</th>\n",
       "      <th>B</th>\n",
       "      <th>C</th>\n",
       "      <th>D</th>\n",
       "    </tr>\n",
       "  </thead>\n",
       "  <tbody>\n",
       "    <tr>\n",
       "      <th>0</th>\n",
       "      <td>2</td>\n",
       "      <td>50.0</td>\n",
       "      <td>56.0</td>\n",
       "      <td>78</td>\n",
       "    </tr>\n",
       "    <tr>\n",
       "      <th>1</th>\n",
       "      <td>34</td>\n",
       "      <td>NaN</td>\n",
       "      <td>4.0</td>\n",
       "      <td>34</td>\n",
       "    </tr>\n",
       "    <tr>\n",
       "      <th>2</th>\n",
       "      <td>56</td>\n",
       "      <td>NaN</td>\n",
       "      <td>NaN</td>\n",
       "      <td>56</td>\n",
       "    </tr>\n",
       "    <tr>\n",
       "      <th>3</th>\n",
       "      <td>2</td>\n",
       "      <td>50.0</td>\n",
       "      <td>56.0</td>\n",
       "      <td>78</td>\n",
       "    </tr>\n",
       "  </tbody>\n",
       "</table>\n",
       "</div>"
      ],
      "text/plain": [
       "    A     B     C   D\n",
       "0   2  50.0  56.0  78\n",
       "1  34   NaN   4.0  34\n",
       "2  56   NaN   NaN  56\n",
       "3   2  50.0  56.0  78"
      ]
     },
     "execution_count": 98,
     "metadata": {},
     "output_type": "execute_result"
    }
   ],
   "source": [
    "dj.dropna(how='all')  #Drop the row or column if all values are NA. "
   ]
  },
  {
   "cell_type": "code",
   "execution_count": 100,
   "id": "93579281-0b7b-4e63-ba36-c87a33e82098",
   "metadata": {},
   "outputs": [
    {
     "data": {
      "text/html": [
       "<div>\n",
       "<style scoped>\n",
       "    .dataframe tbody tr th:only-of-type {\n",
       "        vertical-align: middle;\n",
       "    }\n",
       "\n",
       "    .dataframe tbody tr th {\n",
       "        vertical-align: top;\n",
       "    }\n",
       "\n",
       "    .dataframe thead th {\n",
       "        text-align: right;\n",
       "    }\n",
       "</style>\n",
       "<table border=\"1\" class=\"dataframe\">\n",
       "  <thead>\n",
       "    <tr style=\"text-align: right;\">\n",
       "      <th></th>\n",
       "      <th>A</th>\n",
       "      <th>B</th>\n",
       "      <th>C</th>\n",
       "      <th>D</th>\n",
       "    </tr>\n",
       "  </thead>\n",
       "  <tbody>\n",
       "    <tr>\n",
       "      <th>0</th>\n",
       "      <td>2</td>\n",
       "      <td>50.0</td>\n",
       "      <td>56.0</td>\n",
       "      <td>78</td>\n",
       "    </tr>\n",
       "    <tr>\n",
       "      <th>1</th>\n",
       "      <td>34</td>\n",
       "      <td>NaN</td>\n",
       "      <td>4.0</td>\n",
       "      <td>34</td>\n",
       "    </tr>\n",
       "    <tr>\n",
       "      <th>3</th>\n",
       "      <td>2</td>\n",
       "      <td>50.0</td>\n",
       "      <td>56.0</td>\n",
       "      <td>78</td>\n",
       "    </tr>\n",
       "  </tbody>\n",
       "</table>\n",
       "</div>"
      ],
      "text/plain": [
       "    A     B     C   D\n",
       "0   2  50.0  56.0  78\n",
       "1  34   NaN   4.0  34\n",
       "3   2  50.0  56.0  78"
      ]
     },
     "execution_count": 100,
     "metadata": {},
     "output_type": "execute_result"
    }
   ],
   "source": [
    "dj.dropna(subset=['B','C'],how='all')  #Drop the row or column if all values in subset are NA. "
   ]
  },
  {
   "cell_type": "code",
   "execution_count": 101,
   "id": "6b2e0385-5869-4c5d-a820-916048576383",
   "metadata": {},
   "outputs": [
    {
     "data": {
      "text/html": [
       "<div>\n",
       "<style scoped>\n",
       "    .dataframe tbody tr th:only-of-type {\n",
       "        vertical-align: middle;\n",
       "    }\n",
       "\n",
       "    .dataframe tbody tr th {\n",
       "        vertical-align: top;\n",
       "    }\n",
       "\n",
       "    .dataframe thead th {\n",
       "        text-align: right;\n",
       "    }\n",
       "</style>\n",
       "<table border=\"1\" class=\"dataframe\">\n",
       "  <thead>\n",
       "    <tr style=\"text-align: right;\">\n",
       "      <th></th>\n",
       "      <th>A</th>\n",
       "      <th>B</th>\n",
       "      <th>C</th>\n",
       "      <th>D</th>\n",
       "    </tr>\n",
       "  </thead>\n",
       "  <tbody>\n",
       "    <tr>\n",
       "      <th>0</th>\n",
       "      <td>2</td>\n",
       "      <td>50.0</td>\n",
       "      <td>56.0</td>\n",
       "      <td>78</td>\n",
       "    </tr>\n",
       "    <tr>\n",
       "      <th>1</th>\n",
       "      <td>34</td>\n",
       "      <td>NaN</td>\n",
       "      <td>4.0</td>\n",
       "      <td>34</td>\n",
       "    </tr>\n",
       "    <tr>\n",
       "      <th>2</th>\n",
       "      <td>56</td>\n",
       "      <td>NaN</td>\n",
       "      <td>NaN</td>\n",
       "      <td>56</td>\n",
       "    </tr>\n",
       "  </tbody>\n",
       "</table>\n",
       "</div>"
      ],
      "text/plain": [
       "    A     B     C   D\n",
       "0   2  50.0  56.0  78\n",
       "1  34   NaN   4.0  34\n",
       "2  56   NaN   NaN  56"
      ]
     },
     "execution_count": 101,
     "metadata": {},
     "output_type": "execute_result"
    }
   ],
   "source": [
    "dj.drop_duplicates()  #keep 1st and delete rest duplicate.  keep=False remove all dup."
   ]
  },
  {
   "cell_type": "code",
   "execution_count": 102,
   "id": "eaa2a294-fe27-406a-a3f4-c1a262250a8e",
   "metadata": {},
   "outputs": [
    {
     "name": "stdout",
     "output_type": "stream",
     "text": [
      "<class 'pandas.core.frame.DataFrame'>\n",
      "RangeIndex: 4 entries, 0 to 3\n",
      "Data columns (total 4 columns):\n",
      " #   Column  Non-Null Count  Dtype  \n",
      "---  ------  --------------  -----  \n",
      " 0   A       4 non-null      int64  \n",
      " 1   B       2 non-null      float64\n",
      " 2   C       3 non-null      float64\n",
      " 3   D       4 non-null      int64  \n",
      "dtypes: float64(2), int64(2)\n",
      "memory usage: 256.0 bytes\n"
     ]
    }
   ],
   "source": [
    "dj.info()"
   ]
  },
  {
   "cell_type": "code",
   "execution_count": null,
   "id": "ab93bdb2-95e4-4fb3-8280-4a00ac9855b4",
   "metadata": {},
   "outputs": [],
   "source": []
  },
  {
   "cell_type": "code",
   "execution_count": 103,
   "id": "262f863f-cfeb-418e-a6fb-fa2a6db6209c",
   "metadata": {},
   "outputs": [],
   "source": [
    "#\n",
    "import matplotlib.pyplot as plt"
   ]
  },
  {
   "cell_type": "code",
   "execution_count": 104,
   "id": "259db1eb-4d22-4b97-8923-789277659950",
   "metadata": {},
   "outputs": [
    {
     "data": {
      "image/png": "[encoded data removed]",
      "text/plain": [
       "<Figure size 640x480 with 1 Axes>"
      ]
     },
     "metadata": {},
     "output_type": "display_data"
    }
   ],
   "source": [
    "x=[1,2,3,4]\n",
    "y=[2,4,1,3]\n",
    "plt.plot(x,y,color='brown', linestyle='--', marker='o')\n",
    "plt.title(\"Line plot Eg:\")\n",
    "plt.xlabel(\"X-axis\")\n",
    "plt.ylabel(\"Y-axis\")\n",
    "plt.grid(True)\n",
    "plt.show()\n"
   ]
  },
  {
   "cell_type": "code",
   "execution_count": 105,
   "id": "e338acbf-51ba-41cf-9fa4-4f3247f9a3b9",
   "metadata": {},
   "outputs": [
    {
     "data": {
      "image/png": "[encoded data removed]",
      "text/plain": [
       "<Figure size 640x480 with 1 Axes>"
      ]
     },
     "metadata": {},
     "output_type": "display_data"
    }
   ],
   "source": [
    "x=['A','B','C']\n",
    "y=[10,5,8]\n",
    "plt.bar(x,y,color='pink')\n",
    "# plt.barh(x,y,color='pink')\n",
    "plt.title(\"Bar graph Eg:\")\n",
    "plt.show()\n"
   ]
  },
  {
   "cell_type": "code",
   "execution_count": 106,
   "id": "6aa831e0-f89d-40cc-9000-4a8ee54b67dd",
   "metadata": {},
   "outputs": [
    {
     "data": {
      "image/png": "[encoded data removed]",
      "text/plain": [
       "<Figure size 640x480 with 1 Axes>"
      ]
     },
     "metadata": {},
     "output_type": "display_data"
    }
   ],
   "source": [
    "x=['A','B','C']\n",
    "y=[10,5,8]\n",
    "plt.scatter(x,y, color='black')\n",
    "plt.title(\"Bar graph Eg:\")\n",
    "plt.show()\n"
   ]
  },
  {
   "cell_type": "code",
   "execution_count": 107,
   "id": "5a955b57-4beb-4c36-8db0-6451c9b9861f",
   "metadata": {},
   "outputs": [
    {
     "data": {
      "image/png": "[encoded data removed]",
      "text/plain": [
       "<Figure size 640x480 with 1 Axes>"
      ]
     },
     "metadata": {},
     "output_type": "display_data"
    }
   ],
   "source": [
    "#Histogram\n",
    "import numpy as np\n",
    "data = np.random.randn(1000)\n",
    "plt.hist(data,bins=30,color='red',edgecolor='black')\n",
    "plt.title(\"Histogram Ex:\")\n",
    "plt.show()"
   ]
  },
  {
   "cell_type": "code",
   "execution_count": 108,
   "id": "af887052-c585-43a8-ab51-ada7b9db00b4",
   "metadata": {},
   "outputs": [
    {
     "data": {
      "image/png": "[encoded data removed]",
      "text/plain": [
       "<Figure size 640x480 with 1 Axes>"
      ]
     },
     "metadata": {},
     "output_type": "display_data"
    }
   ],
   "source": [
    "labels=['Python','Java','C++']\n",
    "size= [50,30,20]\n",
    "plt.pie(size, labels=labels,autopct='1%.1f%%',startangle=90)\n",
    "plt.title(\"Pie Chart Ex:\")\n",
    "plt.show()"
   ]
  },
  {
   "cell_type": "code",
   "execution_count": null,
   "id": "3e1271ca-5b04-4426-9eb1-d4e4d083ad42",
   "metadata": {},
   "outputs": [],
   "source": []
  }
 ],
 "metadata": {
  "kernelspec": {
   "display_name": "anaconda-2024.02-py310",
   "language": "python",
   "name": "conda-env-anaconda-2024.02-py310-py"
  },
  "language_info": {
   "codemirror_mode": {
    "name": "ipython",
    "version": 3
   },
   "file_extension": ".py",
   "mimetype": "text/x-python",
   "name": "python",
   "nbconvert_exporter": "python",
   "pygments_lexer": "ipython3",
   "version": "3.10.14"
  }
 },
 "nbformat": 4,
 "nbformat_minor": 5
}
