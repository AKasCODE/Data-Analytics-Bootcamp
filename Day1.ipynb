{
 "cells": [
  {
   "cell_type": "code",
   "execution_count": 1,
   "id": "481bffcf-3bad-48ae-a288-5121fb84d277",
   "metadata": {},
   "outputs": [
    {
     "name": "stdout",
     "output_type": "stream",
     "text": [
      "7\n"
     ]
    }
   ],
   "source": [
    "a=7\n",
    "print(a)"
   ]
  },
  {
   "cell_type": "code",
   "execution_count": null,
   "id": "57ed6eb9-9d66-47d6-952b-218ca8602912",
   "metadata": {},
   "outputs": [],
   "source": [
    "#operators\n",
    "1.Arthmetic operator\n",
    "+,-,*,/,%,**,//"
   ]
  },
  {
   "cell_type": "code",
   "execution_count": 2,
   "id": "5e4ef7f6-720f-4d74-8c87-049a2bc4ed04",
   "metadata": {},
   "outputs": [
    {
     "name": "stdout",
     "output_type": "stream",
     "text": [
      "30\n"
     ]
    }
   ],
   "source": [
    "a=10\n",
    "b=20\n",
    "c=a+b\n",
    "print(c)"
   ]
  },
  {
   "cell_type": "code",
   "execution_count": null,
   "id": "65d4bb72-0ee9-4203-b576-5a609fea3348",
   "metadata": {},
   "outputs": [],
   "source": [
    "2.Assignment operator\n",
    "=,=+,=-"
   ]
  },
  {
   "cell_type": "code",
   "execution_count": 4,
   "id": "996bcfbc-2f54-4f54-a1b2-4b1dafa544b5",
   "metadata": {},
   "outputs": [
    {
     "name": "stdout",
     "output_type": "stream",
     "text": [
      "8\n"
     ]
    }
   ],
   "source": [
    "x = 5\n",
    "x += 3\n",
    "print(x)"
   ]
  },
  {
   "cell_type": "code",
   "execution_count": null,
   "id": "6b4542f7-cdbc-4508-bce7-49d879bc8c33",
   "metadata": {},
   "outputs": [],
   "source": [
    "3.Comparision operator\n",
    "<,>,<=,>=,==,!="
   ]
  },
  {
   "cell_type": "code",
   "execution_count": 3,
   "id": "e10451bf-f48b-4d60-9212-aa378432a8b3",
   "metadata": {},
   "outputs": [
    {
     "name": "stdout",
     "output_type": "stream",
     "text": [
      "False\n"
     ]
    }
   ],
   "source": [
    "x = 5\n",
    "y = 3\n",
    "print(x == y)"
   ]
  },
  {
   "cell_type": "code",
   "execution_count": null,
   "id": "5a6a1d70-ccca-49de-846a-ae8144344469",
   "metadata": {},
   "outputs": [],
   "source": [
    "4.Logical operator\n",
    "AND,OR,NOT"
   ]
  },
  {
   "cell_type": "code",
   "execution_count": 5,
   "id": "841f4738-448f-4f5f-9fa6-acabe694403b",
   "metadata": {},
   "outputs": [
    {
     "name": "stdout",
     "output_type": "stream",
     "text": [
      "True\n"
     ]
    }
   ],
   "source": [
    "x = 5\n",
    "print(x > 3 and x < 10)"
   ]
  },
  {
   "cell_type": "code",
   "execution_count": null,
   "id": "5701724d-ca56-4cd3-a43b-6ed6524352fe",
   "metadata": {},
   "outputs": [],
   "source": [
    "5.Membership operator\n",
    "in, not in"
   ]
  },
  {
   "cell_type": "code",
   "execution_count": 6,
   "id": "09576344-6ec3-4b17-bdb5-0b3e45d220a8",
   "metadata": {},
   "outputs": [
    {
     "name": "stdout",
     "output_type": "stream",
     "text": [
      "True\n"
     ]
    }
   ],
   "source": [
    "x = [\"apple\", \"banana\"]\n",
    "print(\"banana\" in x)"
   ]
  },
  {
   "cell_type": "code",
   "execution_count": null,
   "id": "cda25350-6f95-453a-bbf9-d0dc94fd6c3e",
   "metadata": {},
   "outputs": [],
   "source": [
    "6.Bitwise operator\n",
    "&,\\,!"
   ]
  },
  {
   "cell_type": "code",
   "execution_count": 7,
   "id": "21dbe9f2-daad-451c-95ea-9456a296401c",
   "metadata": {},
   "outputs": [
    {
     "name": "stdout",
     "output_type": "stream",
     "text": [
      "2\n"
     ]
    }
   ],
   "source": [
    "print(6 & 3)"
   ]
  },
  {
   "cell_type": "code",
   "execution_count": null,
   "id": "dd7c84fb-0a76-4227-b30f-852393dde813",
   "metadata": {},
   "outputs": [],
   "source": [
    "7.Identity operator\n",
    "is, is not"
   ]
  },
  {
   "cell_type": "code",
   "execution_count": 10,
   "id": "c77ee9f6-0345-4247-aa28-25584560bffc",
   "metadata": {},
   "outputs": [
    {
     "name": "stdout",
     "output_type": "stream",
     "text": [
      "True\n",
      "True\n"
     ]
    }
   ],
   "source": [
    "x = [\"apple\", \"banana\"]\n",
    "y = [\"Mango\", \"Papaya\"]\n",
    "z = x\n",
    "print(x is z)\n",
    "print(x is not y)"
   ]
  },
  {
   "cell_type": "code",
   "execution_count": null,
   "id": "a2c6cdb7-6ec5-4963-b394-b5431a0ed3c1",
   "metadata": {},
   "outputs": [],
   "source": [
    "#Calculator"
   ]
  },
  {
   "cell_type": "code",
   "execution_count": 23,
   "id": "020d4276-5a92-4fa3-a4ee-ce6af80ee315",
   "metadata": {},
   "outputs": [
    {
     "name": "stdin",
     "output_type": "stream",
     "text": [
      "Enter a number 9\n",
      "enter an operator *\n",
      "Enter a number 2\n"
     ]
    },
    {
     "name": "stdout",
     "output_type": "stream",
     "text": [
      "18.0\n"
     ]
    }
   ],
   "source": [
    "num1=float(input(\"Enter a number\"))\n",
    "operator=(input(\"enter an operator\"))\n",
    "num2=float(input(\"Enter a number\"))\n",
    "\n",
    "if (operator == '+'):\n",
    "    print(num1+num)\n",
    "\n",
    "elif (operator == '-'):\n",
    "    print(num1-num2)\n",
    "elif operator == '*':\n",
    "    print(num1*num2)\n",
    "elif operator == '/':\n",
    "    print(num1/num2)\n",
    "elif operator == '**':\n",
    "    print(num1**num2)\n",
    "else:\n",
    "    print(\"Invalid operator\")"
   ]
  },
  {
   "cell_type": "code",
   "execution_count": null,
   "id": "39874fdf-da29-40ff-bbcf-20c7388e0fc9",
   "metadata": {},
   "outputs": [],
   "source": []
  }
 ],
 "metadata": {
  "kernelspec": {
   "display_name": "anaconda-2024.02-py310",
   "language": "python",
   "name": "conda-env-anaconda-2024.02-py310-py"
  },
  "language_info": {
   "codemirror_mode": {
    "name": "ipython",
    "version": 3
   },
   "file_extension": ".py",
   "mimetype": "text/x-python",
   "name": "python",
   "nbconvert_exporter": "python",
   "pygments_lexer": "ipython3",
   "version": "3.10.14"
  }
 },
 "nbformat": 4,
 "nbformat_minor": 5
}
