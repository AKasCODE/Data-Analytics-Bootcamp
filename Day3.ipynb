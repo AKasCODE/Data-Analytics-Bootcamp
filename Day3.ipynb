{
 "cells": [
  {
   "cell_type": "code",
   "execution_count": null,
   "id": "1efd32b5-565b-41c8-8796-bd726d02fcce",
   "metadata": {},
   "outputs": [],
   "source": []
  },
  {
   "cell_type": "code",
   "execution_count": 1,
   "id": "a03e9e92-2ebb-4e6c-b83a-a1e1e8bbbf69",
   "metadata": {},
   "outputs": [
    {
     "name": "stdin",
     "output_type": "stream",
     "text": [
      "Enter a alphabet: h\n"
     ]
    },
    {
     "name": "stdout",
     "output_type": "stream",
     "text": [
      "You entered: h\n"
     ]
    },
    {
     "name": "stdin",
     "output_type": "stream",
     "text": [
      "Enter a alphabet: q\n"
     ]
    },
    {
     "name": "stdout",
     "output_type": "stream",
     "text": [
      "Exiting!!\n"
     ]
    }
   ],
   "source": [
    "while True:\n",
    "    a=input(\"Enter a alphabet:\")\n",
    "    if a=='q':\n",
    "        print(\"Exiting!!\")\n",
    "        break\n",
    "    else:\n",
    "        print(\"You entered:\",a)"
   ]
  },
  {
   "cell_type": "code",
   "execution_count": 2,
   "id": "e243591a-1bd9-4a10-a76b-2ccaa4372f42",
   "metadata": {},
   "outputs": [
    {
     "name": "stdin",
     "output_type": "stream",
     "text": [
      "Enter your password: ak\n"
     ]
    },
    {
     "name": "stdout",
     "output_type": "stream",
     "text": [
      "Wrong password! Try again! Attempt left: 2\n"
     ]
    },
    {
     "name": "stdin",
     "output_type": "stream",
     "text": [
      "Enter your password: AK00269\n"
     ]
    },
    {
     "name": "stdout",
     "output_type": "stream",
     "text": [
      "!! System Unlocked !!\n"
     ]
    }
   ],
   "source": [
    "i=3\n",
    "code=\"AK00269\"\n",
    "while i!=0:\n",
    "    pa=(input(\"Enter your password:\"))\n",
    "    if pa==code:\n",
    "        print(\"!! System Unlocked !!\")\n",
    "        break\n",
    "    else:\n",
    "        print(\"Wrong password! Try again! Attempt left:\",i-1)\n",
    "        i=i-1\n",
    "    if i==0:\n",
    "        print(\"System locked\")\n",
    "    "
   ]
  },
  {
   "cell_type": "code",
   "execution_count": 1,
   "id": "5f039bb8-be1b-4e14-b465-6c7b7fb81ba8",
   "metadata": {},
   "outputs": [
    {
     "name": "stdout",
     "output_type": "stream",
     "text": [
      "7\n",
      "14\n",
      "21\n",
      "28\n",
      "35\n",
      "42\n",
      "49\n",
      "56\n",
      "63\n",
      "70\n",
      "77\n",
      "84\n",
      "91\n",
      "98\n"
     ]
    }
   ],
   "source": [
    "i=1\n",
    "while i<=100:\n",
    "    if i % 7==0:\n",
    "        print(i)\n",
    "    i+=1\n"
   ]
  },
  {
   "cell_type": "code",
   "execution_count": 13,
   "id": "6e6d078d-8fe8-400d-b84c-5101e9bba706",
   "metadata": {},
   "outputs": [
    {
     "name": "stdin",
     "output_type": "stream",
     "text": [
      "Enter your password: uhu\n"
     ]
    },
    {
     "name": "stdout",
     "output_type": "stream",
     "text": [
      "Re-try! Attempt left: 2\n"
     ]
    },
    {
     "name": "stdin",
     "output_type": "stream",
     "text": [
      "Enter your password: AK00269\n"
     ]
    },
    {
     "name": "stdout",
     "output_type": "stream",
     "text": [
      "UNLOCKED\n"
     ]
    }
   ],
   "source": [
    "code=\"AK00269\"\n",
    "for i in range(1,4):\n",
    "    p=input(\"Enter your password:\")\n",
    "    if p==code:\n",
    "        print(\"UNLOCKED\")\n",
    "        break\n",
    "    else:\n",
    "        if i==3:\n",
    "            print(\"locked!\")\n",
    "            break\n",
    "        print(\"Re-try! Attempt left:\",3-i)\n"
   ]
  },
  {
   "cell_type": "code",
   "execution_count": null,
   "id": "c1856d08-e6a6-42a6-9ff3-fd7815b10dd2",
   "metadata": {},
   "outputs": [],
   "source": [
    "for i in range(1,10)\n",
    "    if i==5:\n",
    "        continue\n",
    "    if i==8:\n",
    "        break"
   ]
  },
  {
   "cell_type": "code",
   "execution_count": 22,
   "id": "1cfa46ed-340d-4cc9-bbe8-534f91d46269",
   "metadata": {},
   "outputs": [
    {
     "name": "stdin",
     "output_type": "stream",
     "text": [
      "Enter your password: wfw\n"
     ]
    },
    {
     "name": "stdout",
     "output_type": "stream",
     "text": [
      "retry! attempt left: 4\n"
     ]
    },
    {
     "name": "stdin",
     "output_type": "stream",
     "text": [
      "Enter your password: forgot\n"
     ]
    },
    {
     "name": "stdout",
     "output_type": "stream",
     "text": [
      "Skiped\n"
     ]
    },
    {
     "name": "stdin",
     "output_type": "stream",
     "text": [
      "Enter your password: jowe\n"
     ]
    },
    {
     "name": "stdout",
     "output_type": "stream",
     "text": [
      "retry! attempt left: 2\n"
     ]
    },
    {
     "name": "stdin",
     "output_type": "stream",
     "text": [
      "Enter your password: AK00269\n"
     ]
    },
    {
     "name": "stdout",
     "output_type": "stream",
     "text": [
      "UNLOCKED\n"
     ]
    }
   ],
   "source": [
    "code=\"AK00269\"\n",
    "for i in range(1,6):\n",
    "    a=input(\"Enter your password:\")\n",
    "    if a==\"forgot\":\n",
    "        print(\"Skiped\")\n",
    "    elif i==5:\n",
    "        print(\"LOCKED!\")\n",
    "    elif code==a:\n",
    "        print(\"UNLOCKED\")\n",
    "        break\n",
    "    else:\n",
    "        print(\"retry! attempt left:\",5-i)\n"
   ]
  },
  {
   "cell_type": "code",
   "execution_count": 23,
   "id": "90a3a066-a2cf-4154-8376-9f41f2a22191",
   "metadata": {},
   "outputs": [
    {
     "name": "stdout",
     "output_type": "stream",
     "text": [
      "p\n",
      "y\n",
      "t\n",
      "h\n"
     ]
    }
   ],
   "source": [
    "a=\"python\"\n",
    "for char in a:\n",
    "    if char=='o':\n",
    "        continue\n",
    "    if char=='n':\n",
    "        break\n",
    "    print(char)"
   ]
  },
  {
   "cell_type": "code",
   "execution_count": null,
   "id": "bbcb8043-0a7e-43d8-99fc-bc8a5c2d27e4",
   "metadata": {},
   "outputs": [],
   "source": [
    "def AK():\n",
    "    print(\"Hello\")\n",
    "AK()"
   ]
  },
  {
   "cell_type": "code",
   "execution_count": 24,
   "id": "b73513af-8322-48fc-ae26-3236164cf8f6",
   "metadata": {},
   "outputs": [
    {
     "name": "stdin",
     "output_type": "stream",
     "text": [
      "Enter a number 3\n",
      "Enter a number 4\n"
     ]
    },
    {
     "name": "stdout",
     "output_type": "stream",
     "text": [
      "SUM is: 7\n"
     ]
    }
   ],
   "source": [
    "def sum(a,b):\n",
    "    print(\"SUM is:\", a+b)\n",
    "a=int(input(\"Enter a number\"))\n",
    "b=int(input(\"Enter a number\"))\n",
    "sum(a,b)"
   ]
  },
  {
   "cell_type": "code",
   "execution_count": 5,
   "id": "48e3ea52-227b-4ecf-9c44-d9a7f9b77f66",
   "metadata": {},
   "outputs": [
    {
     "name": "stdout",
     "output_type": "stream",
     "text": [
      "Reversed: ruof\n"
     ]
    }
   ],
   "source": [
    "def rev(str):\n",
    "    str2 = \"\"\n",
    "    for char in str:\n",
    "        str2 = char + str2\n",
    "    return str2\n",
    "\n",
    "a=\"four\"\n",
    "print(\"Reversed:\",rev(a))"
   ]
  },
  {
   "cell_type": "code",
   "execution_count": 17,
   "id": "7fc8f318-c5d9-49fd-a27f-4a445119948d",
   "metadata": {},
   "outputs": [
    {
     "name": "stdin",
     "output_type": "stream",
     "text": [
      "Enter a number: 5\n"
     ]
    },
    {
     "name": "stdout",
     "output_type": "stream",
     "text": [
      "2\n",
      "6\n",
      "24\n",
      "120\n"
     ]
    }
   ],
   "source": [
    "a=int(input(\"Enter a number:\"))\n",
    "n=1\n",
    "for i in range(1,a):\n",
    "    n=n+(i*n)\n",
    "    print(n)"
   ]
  },
  {
   "cell_type": "code",
   "execution_count": 14,
   "id": "4c73fde4-a81c-42f2-9845-7955b4a09f38",
   "metadata": {},
   "outputs": [
    {
     "name": "stdin",
     "output_type": "stream",
     "text": [
      "Enter a number: 123\n"
     ]
    },
    {
     "name": "stdout",
     "output_type": "stream",
     "text": [
      "321\n"
     ]
    }
   ],
   "source": [
    "a=int(input(\"Enter a number:\"))\n",
    "temp=a\n",
    "num=0\n",
    "rem=0\n",
    "while temp!=0:\n",
    "    rem=temp%10\n",
    "    num=(num*10)+rem\n",
    "    temp=temp//10\n",
    "print(num)"
   ]
  },
  {
   "cell_type": "code",
   "execution_count": 23,
   "id": "3f7a59ce-8a13-4e2b-ad8f-87675809b49e",
   "metadata": {},
   "outputs": [
    {
     "name": "stdin",
     "output_type": "stream",
     "text": [
      "Enter a string arpit\n"
     ]
    },
    {
     "name": "stdout",
     "output_type": "stream",
     "text": [
      "2\n"
     ]
    }
   ],
   "source": [
    "a=input(\"Enter a string\")\n",
    "co=0\n",
    "for char in a:\n",
    "    if char=='a' or char=='e'or char=='i'or char=='o'or char=='u':\n",
    "        co=co+1\n",
    "print(co)"
   ]
  },
  {
   "cell_type": "code",
   "execution_count": 18,
   "id": "e0e8217f-421a-444c-b58b-9b7e253aa5ee",
   "metadata": {},
   "outputs": [
    {
     "name": "stdin",
     "output_type": "stream",
     "text": [
      "Enter a number: 37\n"
     ]
    },
    {
     "name": "stdout",
     "output_type": "stream",
     "text": [
      "Prime\n"
     ]
    }
   ],
   "source": [
    "a=int(input(\"Enter a number:\"))\n",
    "count=0\n",
    "for i in range (2,a):\n",
    "    if a%i==0:\n",
    "        count+=1\n",
    "if count!=0:\n",
    "    print(\"Not Prime\")\n",
    "else:\n",
    "    print(\"Prime\")\n",
    "    \n"
   ]
  },
  {
   "cell_type": "code",
   "execution_count": null,
   "id": "86e34083-a791-4692-a92b-bb02d0503343",
   "metadata": {},
   "outputs": [],
   "source": []
  }
 ],
 "metadata": {
  "kernelspec": {
   "display_name": "anaconda-2024.02-py310",
   "language": "python",
   "name": "conda-env-anaconda-2024.02-py310-py"
  },
  "language_info": {
   "codemirror_mode": {
    "name": "ipython",
    "version": 3
   },
   "file_extension": ".py",
   "mimetype": "text/x-python",
   "name": "python",
   "nbconvert_exporter": "python",
   "pygments_lexer": "ipython3",
   "version": "3.10.14"
  }
 },
 "nbformat": 4,
 "nbformat_minor": 5
}
