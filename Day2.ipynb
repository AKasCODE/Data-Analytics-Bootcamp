{
 "cells": [
  {
   "cell_type": "code",
   "execution_count": null,
   "id": "c5f3220f-b4c1-483c-8d4a-51c099b7d38e",
   "metadata": {},
   "outputs": [],
   "source": []
  },
  {
   "cell_type": "code",
   "execution_count": 1,
   "id": "44290092-da4f-4d9b-809c-085b1a0c325f",
   "metadata": {},
   "outputs": [
    {
     "name": "stdout",
     "output_type": "stream",
     "text": [
      "<class 'float'>\n"
     ]
    }
   ],
   "source": [
    "x=10\n",
    "y=float(x)\n",
    "print(type(y))"
   ]
  },
  {
   "cell_type": "code",
   "execution_count": 5,
   "id": "ab5de393-adc1-4264-b56d-7b73313be7d4",
   "metadata": {},
   "outputs": [
    {
     "name": "stdin",
     "output_type": "stream",
     "text": [
      "Enter name of the product: abhi\n",
      "Enter price of one product: 4\n",
      "Enter quantity of the product: 15\n"
     ]
    },
    {
     "name": "stdout",
     "output_type": "stream",
     "text": [
      "Total price of all product: 60.0\n"
     ]
    }
   ],
   "source": [
    "#Bill calculator\n",
    "name=input(\"Enter name of the product:\")\n",
    "price=float(input(\"Enter price of one product:\"))\n",
    "qua=int(input(\"Enter quantity of the product:\"))\n",
    "total=price*qua\n",
    "print(\"Total price of all product:\",total)"
   ]
  },
  {
   "cell_type": "code",
   "execution_count": 7,
   "id": "484ca532-adab-4926-a4b2-23c90249d9ba",
   "metadata": {},
   "outputs": [
    {
     "name": "stdout",
     "output_type": "stream",
     "text": [
      "Hello\n"
     ]
    }
   ],
   "source": [
    "a=10\n",
    "if a<15:\n",
    "    print(\"Hello\")"
   ]
  },
  {
   "cell_type": "code",
   "execution_count": 8,
   "id": "a2a375c8-ecfb-4692-9939-1ef996418e4c",
   "metadata": {},
   "outputs": [
    {
     "name": "stdout",
     "output_type": "stream",
     "text": [
      "Bye\n"
     ]
    }
   ],
   "source": [
    "a=10\n",
    "if a>15:\n",
    "    print(\"Hello\")\n",
    "else:\n",
    "    print(\"Bye\")"
   ]
  },
  {
   "cell_type": "code",
   "execution_count": 19,
   "id": "61dd5578-b6b0-4d6d-9293-a4d03fec6b57",
   "metadata": {},
   "outputs": [
    {
     "name": "stdin",
     "output_type": "stream",
     "text": [
      "Enter your name: Arpit\n"
     ]
    },
    {
     "name": "stdout",
     "output_type": "stream",
     "text": [
      "Your name is small.\n"
     ]
    }
   ],
   "source": [
    "str=input(\"Enter your name:\")\n",
    "if len(str)>5:\n",
    "    print(\"Your name is big.\")\n",
    "else:\n",
    "    print(\"Your name is small.\")"
   ]
  },
  {
   "cell_type": "code",
   "execution_count": 4,
   "id": "55df4fe9-3665-4300-b93a-fe4868f0c45e",
   "metadata": {},
   "outputs": [
    {
     "name": "stdin",
     "output_type": "stream",
     "text": [
      "Enter the first three letter of the month: jun\n"
     ]
    },
    {
     "name": "stdout",
     "output_type": "stream",
     "text": [
      "This is summer season\n"
     ]
    }
   ],
   "source": [
    "\n",
    "month=input(\"Enter the first three letter of the month:\")\n",
    "if month==\"nov\" or month==\"dec\" or month==\"jan\" or month==\"feb\":\n",
    "    print(\"This is winter season\")\n",
    "elif month==\"mar\" or month==\"apr\" or month==\"may\" or month==\"jun\" or month==\"jul\":\n",
    "    print(\"This is summer season\")\n",
    "elif month==\"aug\" or month==\"sep\" or month==\"oct\":\n",
    "    print(\"This is monsoon season\")\n",
    "else:\n",
    "    print(\"Invalid month.\")"
   ]
  },
  {
   "cell_type": "code",
   "execution_count": 3,
   "id": "0fa1b869-177f-409c-ac17-1c1c0059c9d5",
   "metadata": {},
   "outputs": [
    {
     "name": "stdout",
     "output_type": "stream",
     "text": [
      "<class 'int'>\n"
     ]
    }
   ],
   "source": [
    "a=\"123\"\n",
    "b=int(a)\n",
    "print(type(b))"
   ]
  },
  {
   "cell_type": "code",
   "execution_count": 21,
   "id": "0c590fee-58de-4c2d-95e7-91b741e84795",
   "metadata": {},
   "outputs": [
    {
     "name": "stdin",
     "output_type": "stream",
     "text": [
      "Enter your vehical type: Car\n"
     ]
    },
    {
     "name": "stdout",
     "output_type": "stream",
     "text": [
      "Your vehical has 10 years expiry.\n"
     ]
    }
   ],
   "source": [
    "\n",
    "vehical=input(\"Enter your vehical type:\").lower()\n",
    "if vehical==\"car\":\n",
    "    print(\"Your vehical has 10 years expiry.\")\n",
    "elif vehical ==\"bike\":\n",
    "    print(\"Your vehical has 15 years expiry.\")\n",
    "else:\n",
    "    print(\"Unknown vehical.\")"
   ]
  },
  {
   "cell_type": "code",
   "execution_count": 28,
   "id": "90d33cdc-db9d-4674-aa63-6eced49e03e5",
   "metadata": {},
   "outputs": [
    {
     "name": "stdout",
     "output_type": "stream",
     "text": [
      "2\n",
      "4\n",
      "6\n",
      "8\n",
      "10\n",
      "12\n",
      "14\n",
      "16\n",
      "18\n",
      "20\n"
     ]
    }
   ],
   "source": [
    "i= int(2)\n",
    "while i<=20:\n",
    "    print(i)\n",
    "    i=i+2"
   ]
  },
  {
   "cell_type": "code",
   "execution_count": null,
   "id": "9ebb2992-7fa3-42c8-8ba5-e259807ad415",
   "metadata": {},
   "outputs": [],
   "source": []
  }
 ],
 "metadata": {
  "kernelspec": {
   "display_name": "anaconda-2024.02-py310",
   "language": "python",
   "name": "conda-env-anaconda-2024.02-py310-py"
  },
  "language_info": {
   "codemirror_mode": {
    "name": "ipython",
    "version": 3
   },
   "file_extension": ".py",
   "mimetype": "text/x-python",
   "name": "python",
   "nbconvert_exporter": "python",
   "pygments_lexer": "ipython3",
   "version": "3.10.14"
  }
 },
 "nbformat": 4,
 "nbformat_minor": 5
}
