{
 "cells": [
  {
   "cell_type": "code",
   "execution_count": 1,
   "id": "a84e1178-a404-4c16-992c-9c793d53e719",
   "metadata": {},
   "outputs": [
    {
     "name": "stdout",
     "output_type": "stream",
     "text": [
      "hello world\n"
     ]
    }
   ],
   "source": [
    "s=\"HeLLo worlD\"\n",
    "print(s.lower())"
   ]
  },
  {
   "cell_type": "code",
   "execution_count": 8,
   "id": "bc379e4a-6bf5-4d34-9657-e6cb63cd0fd4",
   "metadata": {},
   "outputs": [
    {
     "name": "stdout",
     "output_type": "stream",
     "text": [
      "  Hello World   \n"
     ]
    }
   ],
   "source": [
    "print(s.title())"
   ]
  },
  {
   "cell_type": "code",
   "execution_count": 2,
   "id": "c347bd61-d779-4c44-961f-3f3ac625a929",
   "metadata": {},
   "outputs": [
    {
     "name": "stdout",
     "output_type": "stream",
     "text": [
      "hEllO WORLd\n"
     ]
    }
   ],
   "source": [
    "print(s.swapcase())"
   ]
  },
  {
   "cell_type": "code",
   "execution_count": 10,
   "id": "8f9238df-4e2e-4a58-bb75-80fe1da66239",
   "metadata": {},
   "outputs": [
    {
     "name": "stdout",
     "output_type": "stream",
     "text": [
      "Hello world\n",
      "Hello world   \n",
      "  Hello world\n"
     ]
    }
   ],
   "source": [
    "s=\"  Hello world   \"\n",
    "print(s.strip())  #remove unnecessary indentation.\n",
    "print(s.lstrip())  #keep string on left side and spaces on right side.\n",
    "print(s.rstrip())  #keep string on right side and spaces on left side."
   ]
  },
  {
   "cell_type": "code",
   "execution_count": 4,
   "id": "5b654673-3eb6-415b-953b-8dd4609adcc1",
   "metadata": {},
   "outputs": [
    {
     "name": "stdout",
     "output_type": "stream",
     "text": [
      "HeLLo AK\n"
     ]
    }
   ],
   "source": [
    "print(s.replace(\"world\",\"AK\"))"
   ]
  },
  {
   "cell_type": "code",
   "execution_count": 11,
   "id": "7b831244-db26-4d56-9e98-7161b65803ff",
   "metadata": {},
   "outputs": [
    {
     "name": "stdout",
     "output_type": "stream",
     "text": [
      "['Apple', 'Banana', 'Grape']\n"
     ]
    }
   ],
   "source": [
    "s=\"Apple,Banana,Grape\"\n",
    "print(s.split(\",\"))"
   ]
  },
  {
   "cell_type": "code",
   "execution_count": 12,
   "id": "64c9bbbd-8442-4541-b551-5ecb6893d658",
   "metadata": {},
   "outputs": [
    {
     "name": "stdout",
     "output_type": "stream",
     "text": [
      "5\n",
      "5\n",
      "2\n"
     ]
    }
   ],
   "source": [
    "print(s.find(\",\"))\n",
    "print(s.index(\",\"))\n",
    "print(s.count(\",\"))"
   ]
  },
  {
   "cell_type": "code",
   "execution_count": 20,
   "id": "863bcd9a-8ebd-4f14-8bfc-34d3b1996a7c",
   "metadata": {},
   "outputs": [
    {
     "name": "stdout",
     "output_type": "stream",
     "text": [
      "True\n",
      "True\n",
      "True\n"
     ]
    }
   ],
   "source": [
    "s=\"abcd\"\n",
    "print(s.isalpha())\n",
    "s=\"1234\"\n",
    "print(s.isdigit())\n",
    "s=\"abc123\"\n",
    "print(s.isalnum())"
   ]
  },
  {
   "cell_type": "code",
   "execution_count": null,
   "id": "9ad09f33-8f40-4cd5-8d39-64004e879fcd",
   "metadata": {},
   "outputs": [],
   "source": []
  },
  {
   "cell_type": "code",
   "execution_count": 13,
   "id": "61f6c826-4882-47a2-beef-842e6f71f32a",
   "metadata": {},
   "outputs": [
    {
     "name": "stdout",
     "output_type": "stream",
     "text": [
      "{'AK': 85, 'AJ': 89, 269: 'VK'}\n"
     ]
    }
   ],
   "source": [
    "#DICTIONARY \n",
    "marks={\"AK\":85, \"AJ\":89, 269:\"VK\"}\n",
    "print(marks)"
   ]
  },
  {
   "cell_type": "code",
   "execution_count": null,
   "id": "c1af2acb-3f12-4052-99ae-f1130124d907",
   "metadata": {},
   "outputs": [],
   "source": [
    "#get() returns value of the key entered.\n",
    "#keys () returns all keys.\n",
    "#values() return all values.\n",
    "#items() return key-values pair.\n",
    "#update() updates or add the dictionary value.\n",
    "#copy()  copy the dict to another dict.\n",
    "#pop()  remove the entered key and returns the value of the key.\n",
    "#popitem() remove the Last In key-value pair.\n",
    "#clear() clear the whole list"
   ]
  },
  {
   "cell_type": "code",
   "execution_count": 26,
   "id": "4e1e11d2-0f87-449b-bd5c-117d9538c6e5",
   "metadata": {},
   "outputs": [
    {
     "name": "stdout",
     "output_type": "stream",
     "text": [
      "dict_keys(['AK', 'AJ', 269])\n",
      "dict_values([85, 88, 'VK'])\n",
      "dict_items([('AK', 85), ('AJ', 88), (269, 'VK')])\n"
     ]
    }
   ],
   "source": [
    "print(marks.keys())\n",
    "print(marks.values())\n",
    "print(marks.items())\n"
   ]
  },
  {
   "cell_type": "code",
   "execution_count": 32,
   "id": "1e98fdfa-3763-4738-8bdc-6bd1392398c4",
   "metadata": {},
   "outputs": [
    {
     "name": "stdout",
     "output_type": "stream",
     "text": [
      "{'AK': 85, 'AJ': 88, 269: 'VK', 164: 'co'}\n"
     ]
    }
   ],
   "source": [
    "marks.update({\"AJ\":88, 164:\"co\"})\n",
    "print(marks)"
   ]
  },
  {
   "cell_type": "code",
   "execution_count": 23,
   "id": "9b20f4ae-6a73-40c8-a664-82277d18de0e",
   "metadata": {},
   "outputs": [
    {
     "name": "stdout",
     "output_type": "stream",
     "text": [
      "VK\n",
      "VK\n"
     ]
    }
   ],
   "source": [
    "print(marks.get(269))\n",
    "print(marks[269])\n",
    "# get() used instead of [] because 266(not a key) will print:\n",
    "# error using[]\n",
    "# None using get()"
   ]
  },
  {
   "cell_type": "code",
   "execution_count": 43,
   "id": "775ab896-000b-4350-b7a5-d163201b1efc",
   "metadata": {},
   "outputs": [
    {
     "name": "stdout",
     "output_type": "stream",
     "text": [
      "co\n",
      "(164, 'co')\n"
     ]
    }
   ],
   "source": [
    "marks.update({164:\"co\"})\n",
    "a=marks.pop(164)\n",
    "print(a)\n",
    "marks.update({164:\"co\"})\n",
    "b=marks.popitem()\n",
    "print(b)"
   ]
  },
  {
   "cell_type": "code",
   "execution_count": null,
   "id": "e6b6d120-f29d-4c40-8bd0-2ee78e52e8df",
   "metadata": {},
   "outputs": [],
   "source": []
  },
  {
   "cell_type": "code",
   "execution_count": null,
   "id": "13ab67a5-c513-4997-8fa4-093bc7d78b56",
   "metadata": {},
   "outputs": [],
   "source": [
    "#FILE HANDELING\n",
    "open file=> open()\n",
    "read file=> .read(), .readline(), .readlines()\n",
    "write in file=>  .write(), .writelines()\n",
    "close file => .close()"
   ]
  },
  {
   "cell_type": "code",
   "execution_count": null,
   "id": "93213d2d-4846-4115-a364-a46aabd6603a",
   "metadata": {},
   "outputs": [],
   "source": [
    "File opening modes:\n",
    "'r' Read(default)- error if file doesn't exist.\n",
    "'w' Write - overwrite and it create the file if doesn't exist.\n",
    "'a' Append - adds data at the end.\n",
    "'x' => create file , error if file already exist.\n",
    "'+' => open for update / read and write."
   ]
  },
  {
   "cell_type": "code",
   "execution_count": 9,
   "id": "738b125d-9bcb-44ac-a48b-56599f3b1202",
   "metadata": {},
   "outputs": [],
   "source": [
    "#create a new file\n",
    "f=open(\"new.txt\",\"x\")\n",
    "f.write(\"File created\")\n",
    "f.close()"
   ]
  },
  {
   "cell_type": "code",
   "execution_count": 14,
   "id": "f86926f2-8821-4cbd-82b0-59865931acf6",
   "metadata": {},
   "outputs": [],
   "source": [
    "#Write in a file.  (Create new file if not doesn't exist.)\n",
    "str=\"This is my file.\"\n",
    "f=open(\"myfile.txt\",\"w\")\n",
    "f.write(str)\n",
    "f.close()"
   ]
  },
  {
   "cell_type": "code",
   "execution_count": 18,
   "id": "df21cca9-73db-49d1-aec9-56650780d27f",
   "metadata": {},
   "outputs": [
    {
     "name": "stdout",
     "output_type": "stream",
     "text": [
      "This is my file.\n"
     ]
    }
   ],
   "source": [
    "#Read from a file\n",
    "f=open(\"myfile.txt\",\"r\")\n",
    "r=f.read()\n",
    "print(r)\n",
    "f.close()"
   ]
  },
  {
   "cell_type": "code",
   "execution_count": 16,
   "id": "22b324c5-64f4-4eca-a45c-26226153c72a",
   "metadata": {},
   "outputs": [],
   "source": [
    "#Delete a file\n",
    "import os\n",
    "os.remove(\"new.txt\")"
   ]
  },
  {
   "cell_type": "code",
   "execution_count": null,
   "id": "27a14a33-c4fb-43df-8f4d-4acb6cb7bc17",
   "metadata": {},
   "outputs": [],
   "source": []
  },
  {
   "cell_type": "code",
   "execution_count": 20,
   "id": "6bdf94ff-8d5d-4117-a3d8-d51cdacbb0fa",
   "metadata": {},
   "outputs": [],
   "source": [
    "#Above can also be done with the help of with.\n",
    "\n",
    "with open(\"wi.txt\", \"w\") as f:\n",
    "    f.write(\"Hello by with.\")\n",
    "\n",
    "#Need not to close opened file. get close automatically."
   ]
  },
  {
   "cell_type": "code",
   "execution_count": null,
   "id": "30cf514e-c53d-4baf-9a6a-f776c49cfbd4",
   "metadata": {},
   "outputs": [],
   "source": []
  },
  {
   "cell_type": "code",
   "execution_count": 33,
   "id": "7bf624e5-365f-4f6d-b055-ba26450f0c96",
   "metadata": {},
   "outputs": [
    {
     "name": "stdout",
     "output_type": "stream",
     "text": [
      "Arpit\n",
      "py\n",
      "1200000\n"
     ]
    }
   ],
   "source": [
    "# OOPS\n",
    "class Employee:\n",
    "    lang=\"py\"\n",
    "    salary=600000   #Class attribute.\n",
    "\n",
    "ak=employee()  #Employee Object\n",
    "ak.name=\"Arpit\"  #Object / instance attribute. \n",
    "ak.salary=1200000  #Instance attribute takes preference over class attribute.\n",
    "print(ak.name)\n",
    "print(ak.lang)  #Class attribute.\n",
    "print(ak.salary)"
   ]
  },
  {
   "cell_type": "code",
   "execution_count": 34,
   "id": "0428e649-eae1-463f-ba36-90b0e5594185",
   "metadata": {},
   "outputs": [
    {
     "name": "stdout",
     "output_type": "stream",
     "text": [
      "The language is py and salary is 1200000\n"
     ]
    }
   ],
   "source": [
    "#SELF parameter\n",
    "\n",
    "class Employee:\n",
    "    lang=\"py\"\n",
    "    salary=600000\n",
    "    def getinfo(self):    #self is preferred but any name can be written.\n",
    "        print(f\"The language is {self.lang} and salary is {self.salary}\")\n",
    "\n",
    "ak=Employee()\n",
    "ak.salary=1200000\n",
    "ak.getinfo()  #This get converted into Employee.getinfo(ak)\n",
    "            #therefor self id given in the getinfo method."
   ]
  },
  {
   "cell_type": "code",
   "execution_count": 36,
   "id": "124e15d5-c274-4198-beff-ca6ecc9eb4ad",
   "metadata": {},
   "outputs": [
    {
     "name": "stdout",
     "output_type": "stream",
     "text": [
      "Hello!\n"
     ]
    }
   ],
   "source": [
    "#Static Method \n",
    "class Employee:\n",
    "    lang=\"py\"\n",
    "    salary=600000\n",
    "    @staticmethod   #No need to give self argument.\n",
    "    def great():\n",
    "        print(\"Hello!\")\n",
    "\n",
    "ak=Employee()\n",
    "ak.great()\n",
    "\n",
    "#sometime a func is needed which do not take self para."
   ]
  },
  {
   "cell_type": "code",
   "execution_count": 40,
   "id": "c2e7321e-baa5-4890-aa4e-f24bd37ddfc4",
   "metadata": {},
   "outputs": [
    {
     "name": "stdout",
     "output_type": "stream",
     "text": [
      "HELLO !!\n",
      "My name is AK.\n",
      "My language is py.\n",
      "And my salary is 1200000.\n"
     ]
    }
   ],
   "source": [
    "#__init__() constructor\n",
    "#__inti__() is a special method which run first as an object is created.\n",
    "\n",
    "class Abc():\n",
    "    def __init__(self):   #It takes self argument and can take further arguments.\n",
    "        print(\"HELLO !!\")\n",
    "        \n",
    "class Def():\n",
    "    def __init__(self,name,lang,salary):   #It takes self argument and can take further arguments.\n",
    "        self.name=name\n",
    "        self.lang=lang\n",
    "        self.salary=salary\n",
    "        print(f\"My name is {self.name}.\\nMy language is {lang}.\\nAnd my salary is {salary}.\")\n",
    "\n",
    "\n",
    "a=Abc()  #__init__ block runs automatically without calling.\n",
    "\n",
    "b=Def(\"AK\",\"py\",1200000)   #When further arguments are given in __init__(), object without giving that para can't be created."
   ]
  },
  {
   "cell_type": "code",
   "execution_count": 53,
   "id": "c98be660-8d0d-4d58-adb9-6d9aac778fd6",
   "metadata": {},
   "outputs": [
    {
     "name": "stdout",
     "output_type": "stream",
     "text": [
      "HELLO!\n",
      "py\n"
     ]
    }
   ],
   "source": [
    "#INHERITANCE\n",
    "class A:\n",
    "    @staticmethod\n",
    "    def great():\n",
    "        print(\"HELLO!\")\n",
    "class B(A):  #Here, class 'B' inherits class 'A'  (Single Inheritance).\n",
    "    lang=\"py\"\n",
    "    salary=\"600000\"\n",
    "\n",
    "obj=B()\n",
    "obj.great()\n",
    "print(obj.lang)"
   ]
  },
  {
   "cell_type": "code",
   "execution_count": 52,
   "id": "14fa046b-e37d-426c-b314-2486726ebba2",
   "metadata": {},
   "outputs": [
    {
     "name": "stdout",
     "output_type": "stream",
     "text": [
      "Your company is Amazon. \n",
      "And your language is py.\n"
     ]
    }
   ],
   "source": [
    "#multiple inheritance\n",
    "class Emp:\n",
    "    company=\"Amazon\"\n",
    "class Coder:\n",
    "    lang=\"py\"\n",
    "class Pro(Emp,Coder):\n",
    "    def show(self):\n",
    "        print(f\"Your company is {self.company}. \\nAnd your language is {self.lang}.\")\n",
    "\n",
    "a=Pro()\n",
    "a.show()\n",
    "\n",
    "#multi level inheritance is also their:\n",
    "#class A \n",
    "#   |\n",
    "#class B(A)\n",
    "#   |\n",
    "#class C(B)"
   ]
  },
  {
   "cell_type": "code",
   "execution_count": null,
   "id": "69b68716-b147-4bc4-b121-582b67870e71",
   "metadata": {},
   "outputs": [],
   "source": []
  },
  {
   "cell_type": "code",
   "execution_count": 57,
   "id": "8e9ec969-e7e0-4536-b8f3-353cc8dbd188",
   "metadata": {},
   "outputs": [
    {
     "name": "stdout",
     "output_type": "stream",
     "text": [
      "Constructor of One\n",
      "Constructor of Two\n"
     ]
    }
   ],
   "source": [
    "#SUPER METHOD\n",
    "#used to access method of super class from derived class.\n",
    "class One:\n",
    "    def __init__(self):\n",
    "        print(\"Constructor of One\")\n",
    "    a=1\n",
    "class Two(One):\n",
    "    def __init__(self):\n",
    "        super().__init__()   #print __init__ of parent class.\n",
    "        print(\"Constructor of Two\")\n",
    "    b=2\n",
    "\n",
    "obj=Two()"
   ]
  },
  {
   "cell_type": "code",
   "execution_count": 61,
   "id": "596756be-2161-4920-9695-d1ff546a8d4e",
   "metadata": {},
   "outputs": [
    {
     "name": "stdout",
     "output_type": "stream",
     "text": [
      "The class attribute a is: 1\n"
     ]
    }
   ],
   "source": [
    "#CLASS METHOD\n",
    "#prefer class attribute over instance. Bound to class rather than object.\n",
    "class A:\n",
    "    a=1\n",
    "    @classmethod   #The decorator is used to create a class method.\n",
    "    def show(cls):\n",
    "        print(\"The class attribute a is:\",cls.a)\n",
    "obj=A()\n",
    "obj.a=2\n",
    "obj.show()"
   ]
  },
  {
   "cell_type": "code",
   "execution_count": null,
   "id": "44b7836e-b3db-4805-bf02-00455f855f44",
   "metadata": {},
   "outputs": [],
   "source": []
  }
 ],
 "metadata": {
  "kernelspec": {
   "display_name": "anaconda-2024.02-py310",
   "language": "python",
   "name": "conda-env-anaconda-2024.02-py310-py"
  },
  "language_info": {
   "codemirror_mode": {
    "name": "ipython",
    "version": 3
   },
   "file_extension": ".py",
   "mimetype": "text/x-python",
   "name": "python",
   "nbconvert_exporter": "python",
   "pygments_lexer": "ipython3",
   "version": "3.10.14"
  }
 },
 "nbformat": 4,
 "nbformat_minor": 5
}
